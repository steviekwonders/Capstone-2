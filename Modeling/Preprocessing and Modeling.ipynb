{
 "cells": [
  {
   "cell_type": "markdown",
   "metadata": {},
   "source": [
    "## Section 1: Preprocessing "
   ]
  },
  {
   "cell_type": "markdown",
   "metadata": {},
   "source": [
    "In this section, we will preprocess our dataset which consists of three main steps. In the first step, we will revise some features such as dates by splitting into seperate columns (Month, Day, Year) and turning string values for time (ex. 1 yr 1 mon) to a numerical values, representing months (i.e. 13). In the next step, we will convert our categorical values into dummy variables. Lastly, we will look standardize our numerical features. "
   ]
  },
  {
   "cell_type": "code",
   "execution_count": 1,
   "metadata": {},
   "outputs": [],
   "source": [
    "import pandas as pd\n",
    "import numpy as np\n",
    "from sklearn.preprocessing import StandardScaler\n",
    "from sklearn.model_selection import GridSearchCV, train_test_split\n",
    "from scipy.sparse import csr_matrix\n",
    "import matplotlib.pyplot as plt\n",
    "from datetime import datetime"
   ]
  },
  {
   "cell_type": "markdown",
   "metadata": {},
   "source": [
    "Import our data file that was saved from our Data Wrangling edits: 'Vehicle_Loan_DataWrang.csv': 'VL_df'"
   ]
  },
  {
   "cell_type": "code",
   "execution_count": 2,
   "metadata": {},
   "outputs": [
    {
     "name": "stdout",
     "output_type": "stream",
     "text": [
      "<class 'pandas.core.frame.DataFrame'>\n",
      "RangeIndex: 233154 entries, 0 to 233153\n",
      "Data columns (total 41 columns):\n",
      " #   Column                               Non-Null Count   Dtype  \n",
      "---  ------                               --------------   -----  \n",
      " 0   UniqueID                             233154 non-null  int64  \n",
      " 1   disbursed_amount                     233154 non-null  int64  \n",
      " 2   asset_cost                           233154 non-null  int64  \n",
      " 3   ltv                                  233154 non-null  float64\n",
      " 4   branch_id                            233154 non-null  int64  \n",
      " 5   supplier_id                          233154 non-null  int64  \n",
      " 6   manufacturer_id                      233154 non-null  int64  \n",
      " 7   Current_pincode_ID                   233154 non-null  int64  \n",
      " 8   Date.of.Birth                        233154 non-null  object \n",
      " 9   Employment.Type                      233154 non-null  object \n",
      " 10  DisbursalDate                        233154 non-null  object \n",
      " 11  State_ID                             233154 non-null  int64  \n",
      " 12  Employee_code_ID                     233154 non-null  int64  \n",
      " 13  MobileNo_Avl_Flag                    233154 non-null  int64  \n",
      " 14  Aadhar_flag                          233154 non-null  int64  \n",
      " 15  PAN_flag                             233154 non-null  int64  \n",
      " 16  VoterID_flag                         233154 non-null  int64  \n",
      " 17  Driving_flag                         233154 non-null  int64  \n",
      " 18  Passport_flag                        233154 non-null  int64  \n",
      " 19  PERFORM_CNS.SCORE                    233154 non-null  int64  \n",
      " 20  PERFORM_CNS.SCORE.DESCRIPTION        233154 non-null  object \n",
      " 21  PRI.NO.OF.ACCTS                      233154 non-null  int64  \n",
      " 22  PRI.ACTIVE.ACCTS                     233154 non-null  int64  \n",
      " 23  PRI.OVERDUE.ACCTS                    233154 non-null  int64  \n",
      " 24  PRI.CURRENT.BALANCE                  233154 non-null  int64  \n",
      " 25  PRI.SANCTIONED.AMOUNT                233154 non-null  int64  \n",
      " 26  PRI.DISBURSED.AMOUNT                 233154 non-null  int64  \n",
      " 27  SEC.NO.OF.ACCTS                      233154 non-null  int64  \n",
      " 28  SEC.ACTIVE.ACCTS                     233154 non-null  int64  \n",
      " 29  SEC.OVERDUE.ACCTS                    233154 non-null  int64  \n",
      " 30  SEC.CURRENT.BALANCE                  233154 non-null  int64  \n",
      " 31  SEC.SANCTIONED.AMOUNT                233154 non-null  int64  \n",
      " 32  SEC.DISBURSED.AMOUNT                 233154 non-null  int64  \n",
      " 33  PRIMARY.INSTAL.AMT                   233154 non-null  int64  \n",
      " 34  SEC.INSTAL.AMT                       233154 non-null  int64  \n",
      " 35  NEW.ACCTS.IN.LAST.SIX.MONTHS         233154 non-null  int64  \n",
      " 36  DELINQUENT.ACCTS.IN.LAST.SIX.MONTHS  233154 non-null  int64  \n",
      " 37  AVERAGE.ACCT.AGE                     233154 non-null  object \n",
      " 38  CREDIT.HISTORY.LENGTH                233154 non-null  object \n",
      " 39  NO.OF_INQUIRIES                      233154 non-null  int64  \n",
      " 40  loan_default                         233154 non-null  int64  \n",
      "dtypes: float64(1), int64(34), object(6)\n",
      "memory usage: 72.9+ MB\n"
     ]
    }
   ],
   "source": [
    "VL_df = pd.read_csv(f'./data/Vehicle_Loan_DataWrang.csv')\n",
    "VL_df.info()"
   ]
  },
  {
   "cell_type": "markdown",
   "metadata": {},
   "source": [
    "The features 'Date.of.Birth' and 'DisbursalDate' are dates. We will store the year, month and day of each of those features as seperate columns. We will turn them into datetime objects and create those new features. "
   ]
  },
  {
   "cell_type": "code",
   "execution_count": 3,
   "metadata": {},
   "outputs": [],
   "source": [
    "# Turn these date features into datetime objects.\n",
    "VL_df['Date.of.Birth'] = VL_df['Date.of.Birth'].apply(lambda x: datetime.strptime(x, '%Y-%m-%d'))\n",
    "VL_df['DisbursalDate'] = VL_df['DisbursalDate'].apply(lambda x: datetime.strptime(x, '%Y-%m-%d'))"
   ]
  },
  {
   "cell_type": "code",
   "execution_count": 4,
   "metadata": {},
   "outputs": [],
   "source": [
    "# Create separate year, month and day features for the feature 'Date.of.Birth'\n",
    "VL_df['birth_year'] = VL_df['Date.of.Birth'].dt.year\n",
    "VL_df['birth_month'] = VL_df['Date.of.Birth'].dt.month\n",
    "VL_df['birth_day'] = VL_df['Date.of.Birth'].dt.day\n",
    "\n",
    "# Create separate year, month and day features for the feature 'DisbursalDate'\n",
    "VL_df['Disbursal_year'] = VL_df['DisbursalDate'].dt.year\n",
    "VL_df['Disbursal_month'] = VL_df['DisbursalDate'].dt.month\n",
    "VL_df['Disbursal_day'] = VL_df['DisbursalDate'].dt.day"
   ]
  },
  {
   "cell_type": "code",
   "execution_count": 5,
   "metadata": {},
   "outputs": [
    {
     "data": {
      "text/html": [
       "<div>\n",
       "<style scoped>\n",
       "    .dataframe tbody tr th:only-of-type {\n",
       "        vertical-align: middle;\n",
       "    }\n",
       "\n",
       "    .dataframe tbody tr th {\n",
       "        vertical-align: top;\n",
       "    }\n",
       "\n",
       "    .dataframe thead th {\n",
       "        text-align: right;\n",
       "    }\n",
       "</style>\n",
       "<table border=\"1\" class=\"dataframe\">\n",
       "  <thead>\n",
       "    <tr style=\"text-align: right;\">\n",
       "      <th></th>\n",
       "      <th>Date.of.Birth</th>\n",
       "      <th>birth_year</th>\n",
       "      <th>birth_month</th>\n",
       "      <th>birth_day</th>\n",
       "      <th>DisbursalDate</th>\n",
       "      <th>Disbursal_year</th>\n",
       "      <th>Disbursal_month</th>\n",
       "      <th>Disbursal_day</th>\n",
       "    </tr>\n",
       "  </thead>\n",
       "  <tbody>\n",
       "    <tr>\n",
       "      <th>0</th>\n",
       "      <td>1984-01-01</td>\n",
       "      <td>1984</td>\n",
       "      <td>1</td>\n",
       "      <td>1</td>\n",
       "      <td>2018-08-03</td>\n",
       "      <td>2018</td>\n",
       "      <td>8</td>\n",
       "      <td>3</td>\n",
       "    </tr>\n",
       "    <tr>\n",
       "      <th>1</th>\n",
       "      <td>1985-07-31</td>\n",
       "      <td>1985</td>\n",
       "      <td>7</td>\n",
       "      <td>31</td>\n",
       "      <td>2018-09-26</td>\n",
       "      <td>2018</td>\n",
       "      <td>9</td>\n",
       "      <td>26</td>\n",
       "    </tr>\n",
       "    <tr>\n",
       "      <th>2</th>\n",
       "      <td>1985-08-24</td>\n",
       "      <td>1985</td>\n",
       "      <td>8</td>\n",
       "      <td>24</td>\n",
       "      <td>2018-08-01</td>\n",
       "      <td>2018</td>\n",
       "      <td>8</td>\n",
       "      <td>1</td>\n",
       "    </tr>\n",
       "    <tr>\n",
       "      <th>3</th>\n",
       "      <td>1993-12-30</td>\n",
       "      <td>1993</td>\n",
       "      <td>12</td>\n",
       "      <td>30</td>\n",
       "      <td>2018-10-26</td>\n",
       "      <td>2018</td>\n",
       "      <td>10</td>\n",
       "      <td>26</td>\n",
       "    </tr>\n",
       "    <tr>\n",
       "      <th>4</th>\n",
       "      <td>1977-12-09</td>\n",
       "      <td>1977</td>\n",
       "      <td>12</td>\n",
       "      <td>9</td>\n",
       "      <td>2018-09-26</td>\n",
       "      <td>2018</td>\n",
       "      <td>9</td>\n",
       "      <td>26</td>\n",
       "    </tr>\n",
       "    <tr>\n",
       "      <th>...</th>\n",
       "      <td>...</td>\n",
       "      <td>...</td>\n",
       "      <td>...</td>\n",
       "      <td>...</td>\n",
       "      <td>...</td>\n",
       "      <td>...</td>\n",
       "      <td>...</td>\n",
       "      <td>...</td>\n",
       "    </tr>\n",
       "    <tr>\n",
       "      <th>233149</th>\n",
       "      <td>1988-08-01</td>\n",
       "      <td>1988</td>\n",
       "      <td>8</td>\n",
       "      <td>1</td>\n",
       "      <td>2018-10-26</td>\n",
       "      <td>2018</td>\n",
       "      <td>10</td>\n",
       "      <td>26</td>\n",
       "    </tr>\n",
       "    <tr>\n",
       "      <th>233150</th>\n",
       "      <td>1988-12-05</td>\n",
       "      <td>1988</td>\n",
       "      <td>12</td>\n",
       "      <td>5</td>\n",
       "      <td>2018-10-23</td>\n",
       "      <td>2018</td>\n",
       "      <td>10</td>\n",
       "      <td>23</td>\n",
       "    </tr>\n",
       "    <tr>\n",
       "      <th>233151</th>\n",
       "      <td>1976-06-01</td>\n",
       "      <td>1976</td>\n",
       "      <td>6</td>\n",
       "      <td>1</td>\n",
       "      <td>2018-10-24</td>\n",
       "      <td>2018</td>\n",
       "      <td>10</td>\n",
       "      <td>24</td>\n",
       "    </tr>\n",
       "    <tr>\n",
       "      <th>233152</th>\n",
       "      <td>1994-03-26</td>\n",
       "      <td>1994</td>\n",
       "      <td>3</td>\n",
       "      <td>26</td>\n",
       "      <td>2018-09-29</td>\n",
       "      <td>2018</td>\n",
       "      <td>9</td>\n",
       "      <td>29</td>\n",
       "    </tr>\n",
       "    <tr>\n",
       "      <th>233153</th>\n",
       "      <td>1984-02-18</td>\n",
       "      <td>1984</td>\n",
       "      <td>2</td>\n",
       "      <td>18</td>\n",
       "      <td>2018-10-27</td>\n",
       "      <td>2018</td>\n",
       "      <td>10</td>\n",
       "      <td>27</td>\n",
       "    </tr>\n",
       "  </tbody>\n",
       "</table>\n",
       "<p>233154 rows × 8 columns</p>\n",
       "</div>"
      ],
      "text/plain": [
       "       Date.of.Birth  birth_year  birth_month  birth_day DisbursalDate  \\\n",
       "0         1984-01-01        1984            1          1    2018-08-03   \n",
       "1         1985-07-31        1985            7         31    2018-09-26   \n",
       "2         1985-08-24        1985            8         24    2018-08-01   \n",
       "3         1993-12-30        1993           12         30    2018-10-26   \n",
       "4         1977-12-09        1977           12          9    2018-09-26   \n",
       "...              ...         ...          ...        ...           ...   \n",
       "233149    1988-08-01        1988            8          1    2018-10-26   \n",
       "233150    1988-12-05        1988           12          5    2018-10-23   \n",
       "233151    1976-06-01        1976            6          1    2018-10-24   \n",
       "233152    1994-03-26        1994            3         26    2018-09-29   \n",
       "233153    1984-02-18        1984            2         18    2018-10-27   \n",
       "\n",
       "        Disbursal_year  Disbursal_month  Disbursal_day  \n",
       "0                 2018                8              3  \n",
       "1                 2018                9             26  \n",
       "2                 2018                8              1  \n",
       "3                 2018               10             26  \n",
       "4                 2018                9             26  \n",
       "...                ...              ...            ...  \n",
       "233149            2018               10             26  \n",
       "233150            2018               10             23  \n",
       "233151            2018               10             24  \n",
       "233152            2018                9             29  \n",
       "233153            2018               10             27  \n",
       "\n",
       "[233154 rows x 8 columns]"
      ]
     },
     "execution_count": 5,
     "metadata": {},
     "output_type": "execute_result"
    }
   ],
   "source": [
    "# Take a look at the dateframe to see that the date components were extracted correctly.\n",
    "VL_df[['Date.of.Birth', 'birth_year','birth_month', 'birth_day', \n",
    "       'DisbursalDate', 'Disbursal_year','Disbursal_month', 'Disbursal_day']]"
   ]
  },
  {
   "cell_type": "code",
   "execution_count": 6,
   "metadata": {},
   "outputs": [
    {
     "name": "stdout",
     "output_type": "stream",
     "text": [
      "<class 'pandas.core.frame.DataFrame'>\n",
      "RangeIndex: 233154 entries, 0 to 233153\n",
      "Data columns (total 45 columns):\n",
      " #   Column                               Non-Null Count   Dtype  \n",
      "---  ------                               --------------   -----  \n",
      " 0   UniqueID                             233154 non-null  int64  \n",
      " 1   disbursed_amount                     233154 non-null  int64  \n",
      " 2   asset_cost                           233154 non-null  int64  \n",
      " 3   ltv                                  233154 non-null  float64\n",
      " 4   branch_id                            233154 non-null  int64  \n",
      " 5   supplier_id                          233154 non-null  int64  \n",
      " 6   manufacturer_id                      233154 non-null  int64  \n",
      " 7   Current_pincode_ID                   233154 non-null  int64  \n",
      " 8   Employment.Type                      233154 non-null  object \n",
      " 9   State_ID                             233154 non-null  int64  \n",
      " 10  Employee_code_ID                     233154 non-null  int64  \n",
      " 11  MobileNo_Avl_Flag                    233154 non-null  int64  \n",
      " 12  Aadhar_flag                          233154 non-null  int64  \n",
      " 13  PAN_flag                             233154 non-null  int64  \n",
      " 14  VoterID_flag                         233154 non-null  int64  \n",
      " 15  Driving_flag                         233154 non-null  int64  \n",
      " 16  Passport_flag                        233154 non-null  int64  \n",
      " 17  PERFORM_CNS.SCORE                    233154 non-null  int64  \n",
      " 18  PERFORM_CNS.SCORE.DESCRIPTION        233154 non-null  object \n",
      " 19  PRI.NO.OF.ACCTS                      233154 non-null  int64  \n",
      " 20  PRI.ACTIVE.ACCTS                     233154 non-null  int64  \n",
      " 21  PRI.OVERDUE.ACCTS                    233154 non-null  int64  \n",
      " 22  PRI.CURRENT.BALANCE                  233154 non-null  int64  \n",
      " 23  PRI.SANCTIONED.AMOUNT                233154 non-null  int64  \n",
      " 24  PRI.DISBURSED.AMOUNT                 233154 non-null  int64  \n",
      " 25  SEC.NO.OF.ACCTS                      233154 non-null  int64  \n",
      " 26  SEC.ACTIVE.ACCTS                     233154 non-null  int64  \n",
      " 27  SEC.OVERDUE.ACCTS                    233154 non-null  int64  \n",
      " 28  SEC.CURRENT.BALANCE                  233154 non-null  int64  \n",
      " 29  SEC.SANCTIONED.AMOUNT                233154 non-null  int64  \n",
      " 30  SEC.DISBURSED.AMOUNT                 233154 non-null  int64  \n",
      " 31  PRIMARY.INSTAL.AMT                   233154 non-null  int64  \n",
      " 32  SEC.INSTAL.AMT                       233154 non-null  int64  \n",
      " 33  NEW.ACCTS.IN.LAST.SIX.MONTHS         233154 non-null  int64  \n",
      " 34  DELINQUENT.ACCTS.IN.LAST.SIX.MONTHS  233154 non-null  int64  \n",
      " 35  AVERAGE.ACCT.AGE                     233154 non-null  object \n",
      " 36  CREDIT.HISTORY.LENGTH                233154 non-null  object \n",
      " 37  NO.OF_INQUIRIES                      233154 non-null  int64  \n",
      " 38  loan_default                         233154 non-null  int64  \n",
      " 39  birth_year                           233154 non-null  int64  \n",
      " 40  birth_month                          233154 non-null  int64  \n",
      " 41  birth_day                            233154 non-null  int64  \n",
      " 42  Disbursal_year                       233154 non-null  int64  \n",
      " 43  Disbursal_month                      233154 non-null  int64  \n",
      " 44  Disbursal_day                        233154 non-null  int64  \n",
      "dtypes: float64(1), int64(40), object(4)\n",
      "memory usage: 80.0+ MB\n"
     ]
    }
   ],
   "source": [
    "# Remove the original 'Date.of.Birth' and 'DisbursalDate' features as we have those new \n",
    "# features. Those new features will be much more useful for the model.\n",
    "\n",
    "VL_df = VL_df.drop(['Date.of.Birth', 'DisbursalDate'], axis=1)\n",
    "VL_df.info()    # Output to see that those two features are gone and replaced with new ones"
   ]
  },
  {
   "cell_type": "markdown",
   "metadata": {},
   "source": [
    "The 'AVERAGE.ACCT.AGE' and 'CREDIT.HISTORY.LENGTH' features represent age or length of given account or credit. The values are stored as strings in a format such as '1yrs 11mon' \n",
    "representing 1 year and 11 months or 23 months. We want to convert these values to numerical months. "
   ]
  },
  {
   "cell_type": "code",
   "execution_count": 7,
   "metadata": {},
   "outputs": [],
   "source": [
    "# The first two lines remove the 'yrs' and 'mon' portion of the strings and save them \n",
    "# in a new dataframe column VL_df['AVG.ACCT.AGE']. The last line will turn it into the age\n",
    "# in numerical months.\n",
    "VL_df['AVG.ACCT.AGE'] = VL_df['AVERAGE.ACCT.AGE'].apply(lambda x: x.replace('mon',''))\n",
    "VL_df['AVG.ACCT.AGE'] = VL_df['AVG.ACCT.AGE'].apply(lambda x: x.replace('yrs',''))\n",
    "VL_df['AVG.ACCT.AGE'] = VL_df['AVG.ACCT.AGE'].apply(lambda x: 12*int(x[:x.find(' ')+1]) + int(x[x.find(' '):]))\n",
    "\n",
    "# Similar as above but for credit history length.\n",
    "VL_df['CRT.HISTORY.LENGTH'] = VL_df['CREDIT.HISTORY.LENGTH'].apply(lambda x: x.replace('mon',''))\n",
    "VL_df['CRT.HISTORY.LENGTH'] = VL_df['CRT.HISTORY.LENGTH'].apply(lambda x: x.replace('yrs',''))\n",
    "VL_df['CRT.HISTORY.LENGTH'] = VL_df['CRT.HISTORY.LENGTH'].apply(lambda x: 12*int(x[:x.find(' ')+1]) + int(x[x.find(' '):]))"
   ]
  },
  {
   "cell_type": "code",
   "execution_count": 8,
   "metadata": {},
   "outputs": [
    {
     "data": {
      "text/html": [
       "<div>\n",
       "<style scoped>\n",
       "    .dataframe tbody tr th:only-of-type {\n",
       "        vertical-align: middle;\n",
       "    }\n",
       "\n",
       "    .dataframe tbody tr th {\n",
       "        vertical-align: top;\n",
       "    }\n",
       "\n",
       "    .dataframe thead th {\n",
       "        text-align: right;\n",
       "    }\n",
       "</style>\n",
       "<table border=\"1\" class=\"dataframe\">\n",
       "  <thead>\n",
       "    <tr style=\"text-align: right;\">\n",
       "      <th></th>\n",
       "      <th>AVERAGE.ACCT.AGE</th>\n",
       "      <th>AVG.ACCT.AGE</th>\n",
       "      <th>CREDIT.HISTORY.LENGTH</th>\n",
       "      <th>CRT.HISTORY.LENGTH</th>\n",
       "    </tr>\n",
       "  </thead>\n",
       "  <tbody>\n",
       "    <tr>\n",
       "      <th>0</th>\n",
       "      <td>0yrs 0mon</td>\n",
       "      <td>0</td>\n",
       "      <td>0yrs 0mon</td>\n",
       "      <td>0</td>\n",
       "    </tr>\n",
       "    <tr>\n",
       "      <th>1</th>\n",
       "      <td>1yrs 11mon</td>\n",
       "      <td>23</td>\n",
       "      <td>1yrs 11mon</td>\n",
       "      <td>23</td>\n",
       "    </tr>\n",
       "    <tr>\n",
       "      <th>2</th>\n",
       "      <td>0yrs 0mon</td>\n",
       "      <td>0</td>\n",
       "      <td>0yrs 0mon</td>\n",
       "      <td>0</td>\n",
       "    </tr>\n",
       "    <tr>\n",
       "      <th>3</th>\n",
       "      <td>0yrs 8mon</td>\n",
       "      <td>8</td>\n",
       "      <td>1yrs 3mon</td>\n",
       "      <td>15</td>\n",
       "    </tr>\n",
       "    <tr>\n",
       "      <th>4</th>\n",
       "      <td>0yrs 0mon</td>\n",
       "      <td>0</td>\n",
       "      <td>0yrs 0mon</td>\n",
       "      <td>0</td>\n",
       "    </tr>\n",
       "    <tr>\n",
       "      <th>...</th>\n",
       "      <td>...</td>\n",
       "      <td>...</td>\n",
       "      <td>...</td>\n",
       "      <td>...</td>\n",
       "    </tr>\n",
       "    <tr>\n",
       "      <th>233149</th>\n",
       "      <td>1yrs 9mon</td>\n",
       "      <td>21</td>\n",
       "      <td>3yrs 3mon</td>\n",
       "      <td>39</td>\n",
       "    </tr>\n",
       "    <tr>\n",
       "      <th>233150</th>\n",
       "      <td>0yrs 6mon</td>\n",
       "      <td>6</td>\n",
       "      <td>0yrs 6mon</td>\n",
       "      <td>6</td>\n",
       "    </tr>\n",
       "    <tr>\n",
       "      <th>233151</th>\n",
       "      <td>0yrs 0mon</td>\n",
       "      <td>0</td>\n",
       "      <td>0yrs 0mon</td>\n",
       "      <td>0</td>\n",
       "    </tr>\n",
       "    <tr>\n",
       "      <th>233152</th>\n",
       "      <td>0yrs 0mon</td>\n",
       "      <td>0</td>\n",
       "      <td>0yrs 0mon</td>\n",
       "      <td>0</td>\n",
       "    </tr>\n",
       "    <tr>\n",
       "      <th>233153</th>\n",
       "      <td>0yrs 0mon</td>\n",
       "      <td>0</td>\n",
       "      <td>0yrs 0mon</td>\n",
       "      <td>0</td>\n",
       "    </tr>\n",
       "  </tbody>\n",
       "</table>\n",
       "<p>233154 rows × 4 columns</p>\n",
       "</div>"
      ],
      "text/plain": [
       "       AVERAGE.ACCT.AGE  AVG.ACCT.AGE CREDIT.HISTORY.LENGTH  \\\n",
       "0             0yrs 0mon             0             0yrs 0mon   \n",
       "1            1yrs 11mon            23            1yrs 11mon   \n",
       "2             0yrs 0mon             0             0yrs 0mon   \n",
       "3             0yrs 8mon             8             1yrs 3mon   \n",
       "4             0yrs 0mon             0             0yrs 0mon   \n",
       "...                 ...           ...                   ...   \n",
       "233149        1yrs 9mon            21             3yrs 3mon   \n",
       "233150        0yrs 6mon             6             0yrs 6mon   \n",
       "233151        0yrs 0mon             0             0yrs 0mon   \n",
       "233152        0yrs 0mon             0             0yrs 0mon   \n",
       "233153        0yrs 0mon             0             0yrs 0mon   \n",
       "\n",
       "        CRT.HISTORY.LENGTH  \n",
       "0                        0  \n",
       "1                       23  \n",
       "2                        0  \n",
       "3                       15  \n",
       "4                        0  \n",
       "...                    ...  \n",
       "233149                  39  \n",
       "233150                   6  \n",
       "233151                   0  \n",
       "233152                   0  \n",
       "233153                   0  \n",
       "\n",
       "[233154 rows x 4 columns]"
      ]
     },
     "execution_count": 8,
     "metadata": {},
     "output_type": "execute_result"
    }
   ],
   "source": [
    "# Verify that the new feature values were computed correctly.\n",
    "VL_df[['AVERAGE.ACCT.AGE', 'AVG.ACCT.AGE','CREDIT.HISTORY.LENGTH','CRT.HISTORY.LENGTH']]"
   ]
  },
  {
   "cell_type": "code",
   "execution_count": 9,
   "metadata": {},
   "outputs": [
    {
     "name": "stdout",
     "output_type": "stream",
     "text": [
      "<class 'pandas.core.frame.DataFrame'>\n",
      "RangeIndex: 233154 entries, 0 to 233153\n",
      "Data columns (total 45 columns):\n",
      " #   Column                               Non-Null Count   Dtype  \n",
      "---  ------                               --------------   -----  \n",
      " 0   UniqueID                             233154 non-null  int64  \n",
      " 1   disbursed_amount                     233154 non-null  int64  \n",
      " 2   asset_cost                           233154 non-null  int64  \n",
      " 3   ltv                                  233154 non-null  float64\n",
      " 4   branch_id                            233154 non-null  int64  \n",
      " 5   supplier_id                          233154 non-null  int64  \n",
      " 6   manufacturer_id                      233154 non-null  int64  \n",
      " 7   Current_pincode_ID                   233154 non-null  int64  \n",
      " 8   Employment.Type                      233154 non-null  object \n",
      " 9   State_ID                             233154 non-null  int64  \n",
      " 10  Employee_code_ID                     233154 non-null  int64  \n",
      " 11  MobileNo_Avl_Flag                    233154 non-null  int64  \n",
      " 12  Aadhar_flag                          233154 non-null  int64  \n",
      " 13  PAN_flag                             233154 non-null  int64  \n",
      " 14  VoterID_flag                         233154 non-null  int64  \n",
      " 15  Driving_flag                         233154 non-null  int64  \n",
      " 16  Passport_flag                        233154 non-null  int64  \n",
      " 17  PERFORM_CNS.SCORE                    233154 non-null  int64  \n",
      " 18  PERFORM_CNS.SCORE.DESCRIPTION        233154 non-null  object \n",
      " 19  PRI.NO.OF.ACCTS                      233154 non-null  int64  \n",
      " 20  PRI.ACTIVE.ACCTS                     233154 non-null  int64  \n",
      " 21  PRI.OVERDUE.ACCTS                    233154 non-null  int64  \n",
      " 22  PRI.CURRENT.BALANCE                  233154 non-null  int64  \n",
      " 23  PRI.SANCTIONED.AMOUNT                233154 non-null  int64  \n",
      " 24  PRI.DISBURSED.AMOUNT                 233154 non-null  int64  \n",
      " 25  SEC.NO.OF.ACCTS                      233154 non-null  int64  \n",
      " 26  SEC.ACTIVE.ACCTS                     233154 non-null  int64  \n",
      " 27  SEC.OVERDUE.ACCTS                    233154 non-null  int64  \n",
      " 28  SEC.CURRENT.BALANCE                  233154 non-null  int64  \n",
      " 29  SEC.SANCTIONED.AMOUNT                233154 non-null  int64  \n",
      " 30  SEC.DISBURSED.AMOUNT                 233154 non-null  int64  \n",
      " 31  PRIMARY.INSTAL.AMT                   233154 non-null  int64  \n",
      " 32  SEC.INSTAL.AMT                       233154 non-null  int64  \n",
      " 33  NEW.ACCTS.IN.LAST.SIX.MONTHS         233154 non-null  int64  \n",
      " 34  DELINQUENT.ACCTS.IN.LAST.SIX.MONTHS  233154 non-null  int64  \n",
      " 35  NO.OF_INQUIRIES                      233154 non-null  int64  \n",
      " 36  loan_default                         233154 non-null  int64  \n",
      " 37  birth_year                           233154 non-null  int64  \n",
      " 38  birth_month                          233154 non-null  int64  \n",
      " 39  birth_day                            233154 non-null  int64  \n",
      " 40  Disbursal_year                       233154 non-null  int64  \n",
      " 41  Disbursal_month                      233154 non-null  int64  \n",
      " 42  Disbursal_day                        233154 non-null  int64  \n",
      " 43  AVG.ACCT.AGE                         233154 non-null  int64  \n",
      " 44  CRT.HISTORY.LENGTH                   233154 non-null  int64  \n",
      "dtypes: float64(1), int64(42), object(2)\n",
      "memory usage: 80.0+ MB\n"
     ]
    }
   ],
   "source": [
    "# Drop the original columns.\n",
    "VL_df = VL_df.drop(['AVERAGE.ACCT.AGE', 'CREDIT.HISTORY.LENGTH'], axis=1)\n",
    "VL_df.info()"
   ]
  },
  {
   "cell_type": "code",
   "execution_count": 10,
   "metadata": {},
   "outputs": [],
   "source": [
    "## We update our categorial columns list from the Exploratory Analysis section with \n",
    "## our new features.\n",
    "categorical_cols = ['UniqueID', 'branch_id', 'supplier_id', 'manufacturer_id', \n",
    "                   'Current_pincode_ID', 'Employment.Type', \n",
    "                   'State_ID', 'Employee_code_ID', \n",
    "                   'MobileNo_Avl_Flag', 'Aadhar_flag', 'PAN_flag', 'VoterID_flag', \n",
    "                   'Driving_flag', 'Passport_flag', 'PERFORM_CNS.SCORE.DESCRIPTION',\n",
    "                   'birth_year','birth_month','birth_day', 'Disbursal_year',\n",
    "                   'Disbursal_month','Disbursal_day','AVG.ACCT.AGE', 'CRT.HISTORY.LENGTH']"
   ]
  },
  {
   "cell_type": "code",
   "execution_count": 11,
   "metadata": {},
   "outputs": [
    {
     "data": {
      "text/html": [
       "<div>\n",
       "<style scoped>\n",
       "    .dataframe tbody tr th:only-of-type {\n",
       "        vertical-align: middle;\n",
       "    }\n",
       "\n",
       "    .dataframe tbody tr th {\n",
       "        vertical-align: top;\n",
       "    }\n",
       "\n",
       "    .dataframe thead th {\n",
       "        text-align: right;\n",
       "    }\n",
       "</style>\n",
       "<table border=\"1\" class=\"dataframe\">\n",
       "  <thead>\n",
       "    <tr style=\"text-align: right;\">\n",
       "      <th></th>\n",
       "      <th>UniqueID</th>\n",
       "      <th>branch_id</th>\n",
       "      <th>supplier_id</th>\n",
       "      <th>manufacturer_id</th>\n",
       "      <th>Current_pincode_ID</th>\n",
       "      <th>Employment.Type</th>\n",
       "      <th>State_ID</th>\n",
       "      <th>Employee_code_ID</th>\n",
       "      <th>MobileNo_Avl_Flag</th>\n",
       "      <th>Aadhar_flag</th>\n",
       "      <th>...</th>\n",
       "      <th>Passport_flag</th>\n",
       "      <th>PERFORM_CNS.SCORE.DESCRIPTION</th>\n",
       "      <th>birth_year</th>\n",
       "      <th>birth_month</th>\n",
       "      <th>birth_day</th>\n",
       "      <th>Disbursal_year</th>\n",
       "      <th>Disbursal_month</th>\n",
       "      <th>Disbursal_day</th>\n",
       "      <th>AVG.ACCT.AGE</th>\n",
       "      <th>CRT.HISTORY.LENGTH</th>\n",
       "    </tr>\n",
       "  </thead>\n",
       "  <tbody>\n",
       "    <tr>\n",
       "      <th>0</th>\n",
       "      <td>420825</td>\n",
       "      <td>67</td>\n",
       "      <td>22807</td>\n",
       "      <td>45</td>\n",
       "      <td>1441</td>\n",
       "      <td>Salaried</td>\n",
       "      <td>6</td>\n",
       "      <td>1998</td>\n",
       "      <td>1</td>\n",
       "      <td>1</td>\n",
       "      <td>...</td>\n",
       "      <td>0</td>\n",
       "      <td>No Bureau History Available</td>\n",
       "      <td>1984</td>\n",
       "      <td>1</td>\n",
       "      <td>1</td>\n",
       "      <td>2018</td>\n",
       "      <td>8</td>\n",
       "      <td>3</td>\n",
       "      <td>0</td>\n",
       "      <td>0</td>\n",
       "    </tr>\n",
       "    <tr>\n",
       "      <th>1</th>\n",
       "      <td>537409</td>\n",
       "      <td>67</td>\n",
       "      <td>22807</td>\n",
       "      <td>45</td>\n",
       "      <td>1502</td>\n",
       "      <td>Self employed</td>\n",
       "      <td>6</td>\n",
       "      <td>1998</td>\n",
       "      <td>1</td>\n",
       "      <td>1</td>\n",
       "      <td>...</td>\n",
       "      <td>0</td>\n",
       "      <td>I-Medium Risk</td>\n",
       "      <td>1985</td>\n",
       "      <td>7</td>\n",
       "      <td>31</td>\n",
       "      <td>2018</td>\n",
       "      <td>9</td>\n",
       "      <td>26</td>\n",
       "      <td>23</td>\n",
       "      <td>23</td>\n",
       "    </tr>\n",
       "    <tr>\n",
       "      <th>2</th>\n",
       "      <td>417566</td>\n",
       "      <td>67</td>\n",
       "      <td>22807</td>\n",
       "      <td>45</td>\n",
       "      <td>1497</td>\n",
       "      <td>Self employed</td>\n",
       "      <td>6</td>\n",
       "      <td>1998</td>\n",
       "      <td>1</td>\n",
       "      <td>1</td>\n",
       "      <td>...</td>\n",
       "      <td>0</td>\n",
       "      <td>No Bureau History Available</td>\n",
       "      <td>1985</td>\n",
       "      <td>8</td>\n",
       "      <td>24</td>\n",
       "      <td>2018</td>\n",
       "      <td>8</td>\n",
       "      <td>1</td>\n",
       "      <td>0</td>\n",
       "      <td>0</td>\n",
       "    </tr>\n",
       "    <tr>\n",
       "      <th>3</th>\n",
       "      <td>624493</td>\n",
       "      <td>67</td>\n",
       "      <td>22807</td>\n",
       "      <td>45</td>\n",
       "      <td>1501</td>\n",
       "      <td>Self employed</td>\n",
       "      <td>6</td>\n",
       "      <td>1998</td>\n",
       "      <td>1</td>\n",
       "      <td>1</td>\n",
       "      <td>...</td>\n",
       "      <td>0</td>\n",
       "      <td>L-Very High Risk</td>\n",
       "      <td>1993</td>\n",
       "      <td>12</td>\n",
       "      <td>30</td>\n",
       "      <td>2018</td>\n",
       "      <td>10</td>\n",
       "      <td>26</td>\n",
       "      <td>8</td>\n",
       "      <td>15</td>\n",
       "    </tr>\n",
       "    <tr>\n",
       "      <th>4</th>\n",
       "      <td>539055</td>\n",
       "      <td>67</td>\n",
       "      <td>22807</td>\n",
       "      <td>45</td>\n",
       "      <td>1495</td>\n",
       "      <td>Self employed</td>\n",
       "      <td>6</td>\n",
       "      <td>1998</td>\n",
       "      <td>1</td>\n",
       "      <td>1</td>\n",
       "      <td>...</td>\n",
       "      <td>0</td>\n",
       "      <td>No Bureau History Available</td>\n",
       "      <td>1977</td>\n",
       "      <td>12</td>\n",
       "      <td>9</td>\n",
       "      <td>2018</td>\n",
       "      <td>9</td>\n",
       "      <td>26</td>\n",
       "      <td>0</td>\n",
       "      <td>0</td>\n",
       "    </tr>\n",
       "  </tbody>\n",
       "</table>\n",
       "<p>5 rows × 23 columns</p>\n",
       "</div>"
      ],
      "text/plain": [
       "   UniqueID  branch_id  supplier_id  manufacturer_id  Current_pincode_ID  \\\n",
       "0    420825         67        22807               45                1441   \n",
       "1    537409         67        22807               45                1502   \n",
       "2    417566         67        22807               45                1497   \n",
       "3    624493         67        22807               45                1501   \n",
       "4    539055         67        22807               45                1495   \n",
       "\n",
       "  Employment.Type  State_ID  Employee_code_ID  MobileNo_Avl_Flag  Aadhar_flag  \\\n",
       "0        Salaried         6              1998                  1            1   \n",
       "1   Self employed         6              1998                  1            1   \n",
       "2   Self employed         6              1998                  1            1   \n",
       "3   Self employed         6              1998                  1            1   \n",
       "4   Self employed         6              1998                  1            1   \n",
       "\n",
       "   ...  Passport_flag  PERFORM_CNS.SCORE.DESCRIPTION  birth_year  birth_month  \\\n",
       "0  ...              0    No Bureau History Available        1984            1   \n",
       "1  ...              0                  I-Medium Risk        1985            7   \n",
       "2  ...              0    No Bureau History Available        1985            8   \n",
       "3  ...              0               L-Very High Risk        1993           12   \n",
       "4  ...              0    No Bureau History Available        1977           12   \n",
       "\n",
       "  birth_day  Disbursal_year  Disbursal_month  Disbursal_day  AVG.ACCT.AGE  \\\n",
       "0         1            2018                8              3             0   \n",
       "1        31            2018                9             26            23   \n",
       "2        24            2018                8              1             0   \n",
       "3        30            2018               10             26             8   \n",
       "4         9            2018                9             26             0   \n",
       "\n",
       "   CRT.HISTORY.LENGTH  \n",
       "0                   0  \n",
       "1                  23  \n",
       "2                   0  \n",
       "3                  15  \n",
       "4                   0  \n",
       "\n",
       "[5 rows x 23 columns]"
      ]
     },
     "execution_count": 11,
     "metadata": {},
     "output_type": "execute_result"
    }
   ],
   "source": [
    "## Check to see that they are categorical\n",
    "VL_df[categorical_cols].head()"
   ]
  },
  {
   "cell_type": "code",
   "execution_count": 12,
   "metadata": {},
   "outputs": [
    {
     "name": "stdout",
     "output_type": "stream",
     "text": [
      "233154 unique values for UniqueID\n",
      "82 unique values for branch_id\n",
      "2953 unique values for supplier_id\n",
      "11 unique values for manufacturer_id\n",
      "6698 unique values for Current_pincode_ID\n",
      "3 unique values for Employment.Type\n",
      "22 unique values for State_ID\n",
      "3270 unique values for Employee_code_ID\n",
      "1 unique values for MobileNo_Avl_Flag\n",
      "2 unique values for Aadhar_flag\n",
      "2 unique values for PAN_flag\n",
      "2 unique values for VoterID_flag\n",
      "2 unique values for Driving_flag\n",
      "2 unique values for Passport_flag\n",
      "20 unique values for PERFORM_CNS.SCORE.DESCRIPTION\n",
      "48 unique values for birth_year\n",
      "12 unique values for birth_month\n",
      "31 unique values for birth_day\n",
      "1 unique values for Disbursal_year\n",
      "3 unique values for Disbursal_month\n",
      "31 unique values for Disbursal_day\n",
      "192 unique values for AVG.ACCT.AGE\n",
      "294 unique values for CRT.HISTORY.LENGTH\n"
     ]
    }
   ],
   "source": [
    "## We want number of unique values for each categorical variable.\n",
    "for column in categorical_cols:\n",
    "    print(len(VL_df[column].unique()),'unique values for', column)"
   ]
  },
  {
   "cell_type": "code",
   "execution_count": 13,
   "metadata": {},
   "outputs": [
    {
     "data": {
      "text/plain": [
       "array(['Salaried', 'Self employed', 'Other'], dtype=object)"
      ]
     },
     "execution_count": 13,
     "metadata": {},
     "output_type": "execute_result"
    }
   ],
   "source": [
    "VL_df['Employment.Type'].unique()"
   ]
  },
  {
   "cell_type": "code",
   "execution_count": 14,
   "metadata": {},
   "outputs": [],
   "source": [
    "# Create numerical values for Employee.Type\n",
    "replace_map = {'Employment.Type': {'Other': 1, 'Salaried': 2,'Self employed': 3}}\n",
    "VL_df = VL_df.replace(replace_map)"
   ]
  },
  {
   "cell_type": "code",
   "execution_count": 15,
   "metadata": {
    "scrolled": true
   },
   "outputs": [
    {
     "data": {
      "text/plain": [
       "No Bureau History Available                                116950\n",
       "C-Very Low Risk                                             16045\n",
       "A-Very Low Risk                                             14124\n",
       "D-Very Low Risk                                             11358\n",
       "B-Very Low Risk                                              9201\n",
       "M-Very High Risk                                             8776\n",
       "F-Low Risk                                                   8485\n",
       "K-High Risk                                                  8277\n",
       "H-Medium Risk                                                6855\n",
       "E-Low Risk                                                   5821\n",
       "I-Medium Risk                                                5557\n",
       "G-Low Risk                                                   3988\n",
       "Not Scored: Sufficient History Not Available                 3765\n",
       "J-High Risk                                                  3748\n",
       "Not Scored: Not Enough Info available on the customer        3672\n",
       "Not Scored: No Activity seen on the customer (Inactive)      2885\n",
       "Not Scored: No Updates available in last 36 months           1534\n",
       "L-Very High Risk                                             1134\n",
       "Not Scored: Only a Guarantor                                  976\n",
       "Not Scored: More than 50 active Accounts found                  3\n",
       "Name: PERFORM_CNS.SCORE.DESCRIPTION, dtype: int64"
      ]
     },
     "execution_count": 15,
     "metadata": {},
     "output_type": "execute_result"
    }
   ],
   "source": [
    "# Check the count for each value in 'PERFORM_CNS.SCORE.DESCRIPTION'\n",
    "VL_df['PERFORM_CNS.SCORE.DESCRIPTION'].value_counts()"
   ]
  },
  {
   "cell_type": "code",
   "execution_count": 16,
   "metadata": {},
   "outputs": [
    {
     "data": {
      "text/plain": [
       "0    129785\n",
       "1     50728\n",
       "2     18294\n",
       "3     12412\n",
       "4     12025\n",
       "5      9910\n",
       "Name: PERFORM_CNS.SCORE.DESCRIPTION, dtype: int64"
      ]
     },
     "execution_count": 16,
     "metadata": {},
     "output_type": "execute_result"
    }
   ],
   "source": [
    "replace_map = {'PERFORM_CNS.SCORE.DESCRIPTION':{'Not Scored: More than 50 active Accounts found' : 0, \n",
    "                                               'Not Scored: Only a Guarantor':0,\n",
    "                                               'Not Scored: No Updates available in last 36 months':0,\n",
    "                                               'Not Scored: No Activity seen on the customer (Inactive)':0,\n",
    "                                               'Not Scored: Not Enough Info available on the customer':0,\n",
    "                                               'Not Scored: Sufficient History Not Available':0,\n",
    "                                               'No Bureau History Available':0, 'C-Very Low Risk':1,\n",
    "                                               'A-Very Low Risk':1, 'D-Very Low Risk':1, 'B-Very Low Risk':1,\n",
    "                                               'M-Very High Risk':1, 'F-Low Risk':2, 'E-Low Risk':2, \n",
    "                                               'G-Low Risk':2, 'H-Medium Risk':3, 'I-Medium Risk':3,\n",
    "                                               'K-High Risk':4, 'J-High Risk':4, 'M-Very High Risk':5,\n",
    "                                               'L-Very High Risk':5}}\n",
    "\n",
    "VL_df = VL_df.replace(replace_map)\n",
    "VL_df['PERFORM_CNS.SCORE.DESCRIPTION'].value_counts()"
   ]
  },
  {
   "cell_type": "code",
   "execution_count": 17,
   "metadata": {},
   "outputs": [
    {
     "name": "stdout",
     "output_type": "stream",
     "text": [
      "<class 'pandas.core.frame.DataFrame'>\n",
      "RangeIndex: 233154 entries, 0 to 233153\n",
      "Data columns (total 45 columns):\n",
      " #   Column                               Non-Null Count   Dtype  \n",
      "---  ------                               --------------   -----  \n",
      " 0   UniqueID                             233154 non-null  int64  \n",
      " 1   disbursed_amount                     233154 non-null  int64  \n",
      " 2   asset_cost                           233154 non-null  int64  \n",
      " 3   ltv                                  233154 non-null  float64\n",
      " 4   branch_id                            233154 non-null  int64  \n",
      " 5   supplier_id                          233154 non-null  int64  \n",
      " 6   manufacturer_id                      233154 non-null  int64  \n",
      " 7   Current_pincode_ID                   233154 non-null  int64  \n",
      " 8   Employment.Type                      233154 non-null  int64  \n",
      " 9   State_ID                             233154 non-null  int64  \n",
      " 10  Employee_code_ID                     233154 non-null  int64  \n",
      " 11  MobileNo_Avl_Flag                    233154 non-null  int64  \n",
      " 12  Aadhar_flag                          233154 non-null  int64  \n",
      " 13  PAN_flag                             233154 non-null  int64  \n",
      " 14  VoterID_flag                         233154 non-null  int64  \n",
      " 15  Driving_flag                         233154 non-null  int64  \n",
      " 16  Passport_flag                        233154 non-null  int64  \n",
      " 17  PERFORM_CNS.SCORE                    233154 non-null  int64  \n",
      " 18  PERFORM_CNS.SCORE.DESCRIPTION        233154 non-null  int64  \n",
      " 19  PRI.NO.OF.ACCTS                      233154 non-null  int64  \n",
      " 20  PRI.ACTIVE.ACCTS                     233154 non-null  int64  \n",
      " 21  PRI.OVERDUE.ACCTS                    233154 non-null  int64  \n",
      " 22  PRI.CURRENT.BALANCE                  233154 non-null  int64  \n",
      " 23  PRI.SANCTIONED.AMOUNT                233154 non-null  int64  \n",
      " 24  PRI.DISBURSED.AMOUNT                 233154 non-null  int64  \n",
      " 25  SEC.NO.OF.ACCTS                      233154 non-null  int64  \n",
      " 26  SEC.ACTIVE.ACCTS                     233154 non-null  int64  \n",
      " 27  SEC.OVERDUE.ACCTS                    233154 non-null  int64  \n",
      " 28  SEC.CURRENT.BALANCE                  233154 non-null  int64  \n",
      " 29  SEC.SANCTIONED.AMOUNT                233154 non-null  int64  \n",
      " 30  SEC.DISBURSED.AMOUNT                 233154 non-null  int64  \n",
      " 31  PRIMARY.INSTAL.AMT                   233154 non-null  int64  \n",
      " 32  SEC.INSTAL.AMT                       233154 non-null  int64  \n",
      " 33  NEW.ACCTS.IN.LAST.SIX.MONTHS         233154 non-null  int64  \n",
      " 34  DELINQUENT.ACCTS.IN.LAST.SIX.MONTHS  233154 non-null  int64  \n",
      " 35  NO.OF_INQUIRIES                      233154 non-null  int64  \n",
      " 36  loan_default                         233154 non-null  int64  \n",
      " 37  birth_year                           233154 non-null  int64  \n",
      " 38  birth_month                          233154 non-null  int64  \n",
      " 39  birth_day                            233154 non-null  int64  \n",
      " 40  Disbursal_year                       233154 non-null  int64  \n",
      " 41  Disbursal_month                      233154 non-null  int64  \n",
      " 42  Disbursal_day                        233154 non-null  int64  \n",
      " 43  AVG.ACCT.AGE                         233154 non-null  int64  \n",
      " 44  CRT.HISTORY.LENGTH                   233154 non-null  int64  \n",
      "dtypes: float64(1), int64(44)\n",
      "memory usage: 80.0 MB\n"
     ]
    }
   ],
   "source": [
    "VL_df.info()"
   ]
  },
  {
   "cell_type": "markdown",
   "metadata": {},
   "source": [
    "Let's create dummy variables for these. We will not make dummy variables for UniqueID and MobileNo_Avl_Flag. UniqueID can act as our index or the unique loan. MobileNo_Avl_Flag has only one value. We can probably even omit it later on."
   ]
  },
  {
   "cell_type": "code",
   "execution_count": 18,
   "metadata": {},
   "outputs": [],
   "source": [
    "# List of categorical variables to convert to dummies\n",
    "# dummies = ['branch_id','supplier_id', 'manufacturer_id', 'Current_pincode_ID', 'State_ID', \n",
    "#              'Employee_code_ID', 'Aadhar_flag', 'PAN_flag', 'VoterID_flag', 'Driving_flag',\n",
    "#             'Passport_flag', 'birth_year', 'birth_month', 'birth_day', 'Disbursal_year',\n",
    "#             'Disbursal_month', 'Disbursal_day', 'AVG.ACCT.AGE', 'CRT.HISTORY.LENGTH']\n",
    "\n",
    "# List of prefixes for each new dummy variable column\n",
    "# prefix = ['Branch_','Supp_', 'Manufact_', 'CurrPIN_ID_', 'state_', 'employee_', 'AadharFlag_',\n",
    "#            'PANFlag_', 'VoterID_Flag_', 'DrivingFlag_', 'PassportFlag_', 'birthYR_', \n",
    "#            'birthMN_', 'birthDY_', 'DisbursalYR_', 'DisbursalMN', 'DisbursalDY_', 'Avg.ACCT.Age_',\n",
    "#            'Crdt.Hist.Length_']\n",
    "\n",
    "# revised_dummies = []\n",
    "\n",
    "# Add converted dummy dataframes into list: revised_dummies\n",
    "# for i in range(len(dummies)):\n",
    "#     revised_dummies.append(pd.get_dummies(VL_df[dummies[i]], prefix=prefix[i]) )"
   ]
  },
  {
   "cell_type": "code",
   "execution_count": 19,
   "metadata": {},
   "outputs": [],
   "source": [
    "### These categorical variables don't require prefixes when converted to dummies. Hence\n",
    "### they are converted uniquely.\n",
    "\n",
    "# Since employment types are given as strings not numbers, we will not specify a prefix.\n",
    "# dummies_employment = pd.get_dummies(VL_df['Employment.Type'])\n",
    "# Want to specify other as other employment\n",
    "# dummies_employment.rename(columns = {'Other':'Other Employment'}, inplace=True) \n",
    "# revised_dummies.append(dummies_employment)  # append to revised_dummies list\n",
    "\n",
    "# Since PERFORM_CNS.SCORE.DESCRIPTION is given as strings not numbers, we will not specify a prefix.\n",
    "# dummies_PERFORM_CNS = pd.get_dummies(VL_df['PERFORM_CNS.SCORE.DESCRIPTION'])\n",
    "# revised_dummies.append(dummies_PERFORM_CNS)  # append to revised_dummies list"
   ]
  },
  {
   "cell_type": "code",
   "execution_count": 20,
   "metadata": {},
   "outputs": [],
   "source": [
    "### Concat dummy dataframes in the list to one large dataframe: revised_dummies_df\n",
    "# revised_dummies_df = pd.concat(revised_dummies, axis = 1)"
   ]
  },
  {
   "cell_type": "code",
   "execution_count": 21,
   "metadata": {},
   "outputs": [],
   "source": [
    "### Concat the original dataframe Vl_df to our revised_dummies_df\n",
    "# VL_df_revised = pd.concat([VL_df, revised_dummies_df], axis=1)"
   ]
  },
  {
   "cell_type": "code",
   "execution_count": 22,
   "metadata": {},
   "outputs": [],
   "source": [
    "### Drop the original categorical variables.\n",
    "# VL_df_revised = VL_df_revised.drop(['branch_id','supplier_id', 'manufacturer_id', \n",
    "#                    'Current_pincode_ID', 'Employment.Type', \n",
    "#                    'State_ID', 'Employee_code_ID', \n",
    "#                    'MobileNo_Avl_Flag', 'Aadhar_flag', 'PAN_flag', 'VoterID_flag', \n",
    "#                    'Driving_flag', 'Passport_flag', 'PERFORM_CNS.SCORE.DESCRIPTION',\n",
    "#                     'birth_year','birth_month','birth_day','Disbursal_year',\n",
    "#                     'Disbursal_month','Disbursal_day','AVG.ACCT.AGE', 'CRT.HISTORY.LENGTH'], axis = 1)\n",
    "\n",
    "# VL_df_revised"
   ]
  },
  {
   "cell_type": "markdown",
   "metadata": {},
   "source": [
    "We will now split the data set into training and test data and then perform standard scalers on the numerical columns."
   ]
  },
  {
   "cell_type": "code",
   "execution_count": 23,
   "metadata": {},
   "outputs": [],
   "source": [
    "# !pip install imblearn"
   ]
  },
  {
   "cell_type": "code",
   "execution_count": 24,
   "metadata": {},
   "outputs": [],
   "source": [
    "# pip install -U imbalanced-learn"
   ]
  },
  {
   "cell_type": "code",
   "execution_count": 25,
   "metadata": {},
   "outputs": [],
   "source": [
    "# Splitting the training and testing data\n",
    "\n",
    "# X = VL_df_revised.loc[:, VL_df_revised.columns != 'loan_default' or != 'UniqueID']\n",
    "X = VL_df.drop(['loan_default', 'UniqueID', 'Current_pincode_ID', 'supplier_id'], axis=1)\n",
    "y = VL_df['loan_default']   # this is our predictor variable\n",
    "\n",
    "# Since there is an inbalance in the two classes (0 and 1) we will use SMOTE to resample\n",
    "from imblearn.over_sampling import SMOTE\n",
    "X_smote, y_smote = SMOTE().fit_sample(X, y.values.ravel())\n",
    "\n",
    "X_train, X_test, y_train, y_test = train_test_split(X_smote,y_smote,test_size=0.2,random_state=26)"
   ]
  },
  {
   "cell_type": "markdown",
   "metadata": {},
   "source": [
    "We will now plot boxplots for numerical features as they are, to see the scale differences. We will then perform normalization as well as standardization on there features and compare the scales by looking at the boxplots. \n",
    "\n",
    "Filter out the numerical features: 'ltv','disbursed_amount', 'asset_cost', 'PERFORM_CNS.SCORE', 'PRI.NO.OF.ACCTS', 'PRI.ACTIVE.ACCTS', 'PRI.OVERDUE.ACCTS', 'PRI.CURRENT.BALANCE', 'PRI.SANCTIONED.AMOUNT', 'PRI.DISBURSED.AMOUNT', 'SEC.NO.OF.ACCTS', 'SEC.ACTIVE.ACCTS', 'SEC.OVERDUE.ACCTS', 'SEC.CURRENT.BALANCE', 'SEC.SANCTIONED.AMOUNT',  'SEC.DISBURSED.AMOUNT', 'PRIMARY.INSTAL.AMT', 'SEC.INSTAL.AMT', 'NEW.ACCTS.IN.LAST.SIX.MONTHS','DELINQUENT.ACCTS.IN.LAST.SIX.MONTHS', 'NO.OF_INQUIRIES'\n",
    "\n",
    "We determined these features as numerical from the Exploratory Analysis section."
   ]
  },
  {
   "cell_type": "code",
   "execution_count": 26,
   "metadata": {},
   "outputs": [],
   "source": [
    "## First, save the numerical column names into a list, num_cols.\n",
    "num_cols = ['ltv','disbursed_amount', 'asset_cost', 'PERFORM_CNS.SCORE', \n",
    "                'PRI.NO.OF.ACCTS', 'PRI.ACTIVE.ACCTS', 'PRI.OVERDUE.ACCTS', \n",
    "                'PRI.CURRENT.BALANCE', 'PRI.SANCTIONED.AMOUNT', 'PRI.DISBURSED.AMOUNT', \n",
    "                'SEC.NO.OF.ACCTS', 'SEC.ACTIVE.ACCTS', 'SEC.OVERDUE.ACCTS', \n",
    "                'SEC.CURRENT.BALANCE', 'SEC.SANCTIONED.AMOUNT', 'SEC.DISBURSED.AMOUNT', \n",
    "                'PRIMARY.INSTAL.AMT', 'SEC.INSTAL.AMT', 'NEW.ACCTS.IN.LAST.SIX.MONTHS',\n",
    "                'DELINQUENT.ACCTS.IN.LAST.SIX.MONTHS', 'NO.OF_INQUIRIES']"
   ]
  },
  {
   "cell_type": "markdown",
   "metadata": {},
   "source": [
    "Use the StandardScaler to standardize each feature around their mean and respective standard deviations. "
   ]
  },
  {
   "cell_type": "code",
   "execution_count": 27,
   "metadata": {},
   "outputs": [],
   "source": [
    "# Data standardization\n",
    "X_train_stand = X_train.copy()\n",
    "X_test_stand = X_test.copy()\n",
    "\n",
    "for i in X_train.columns:\n",
    "    \n",
    "    # fit on training data column\n",
    "    scale = StandardScaler().fit(X_train_stand[[i]])\n",
    "    \n",
    "    # transform the training data column\n",
    "    X_train_stand[i] = scale.transform(X_train_stand[[i]])\n",
    "    \n",
    "    # transform testing data column\n",
    "    X_test_stand[i] = scale.transform(X_test_stand[[i]]) "
   ]
  },
  {
   "cell_type": "markdown",
   "metadata": {},
   "source": [
    "Here we plot boxplots for numerical variables before and after we standardize. We applied a log tranform base e, to make it more readable. You will see that the boxplots after standardization are better scaled."
   ]
  },
  {
   "cell_type": "code",
   "execution_count": 28,
   "metadata": {},
   "outputs": [
    {
     "name": "stderr",
     "output_type": "stream",
     "text": [
      "/Users/student/opt/anaconda3/lib/python3.7/site-packages/ipykernel_launcher.py:6: RuntimeWarning: divide by zero encountered in log\n",
      "  \n",
      "/Users/student/opt/anaconda3/lib/python3.7/site-packages/matplotlib/cbook/__init__.py:1157: RuntimeWarning: invalid value encountered in double_scalars\n",
      "  notch_max = med + 1.57 * iqr / np.sqrt(N)\n",
      "/Users/student/opt/anaconda3/lib/python3.7/site-packages/ipykernel_launcher.py:11: RuntimeWarning: invalid value encountered in log\n",
      "  # This is added back by InteractiveShellApp.init_path()\n"
     ]
    },
    {
     "data": {
      "text/plain": [
       "Text(0.5, 1.0, 'Log Transform Boxplots After Standardization')"
      ]
     },
     "execution_count": 28,
     "metadata": {},
     "output_type": "execute_result"
    },
    {
     "data": {
      "image/png": "[encoded data removed]",
      "text/plain": [
       "<Figure size 864x288 with 2 Axes>"
      ]
     },
     "metadata": {
      "needs_background": "light"
     },
     "output_type": "display_data"
    }
   ],
   "source": [
    "## USE LOG SCALE ON Y axis for both\n",
    "## Boxplots Before and After Standardization: 'ltv','disbursed_amount', \n",
    "## 'asset_cost', and 'PERFORM_CNS.SCORE'\n",
    "plt.subplots(1,2,figsize=(12,4))\n",
    "plt.subplot(1,2,1)\n",
    "ax = np.log(X_train[num_cols[0:4]]).boxplot()\n",
    "ax.set_xticklabels(ax.get_xticklabels(),rotation=60)\n",
    "ax.set_title('Log Transform Boxplots Before Standardization')\n",
    "\n",
    "plt.subplot(1,2,2)\n",
    "ax = np.log(X_train_stand[num_cols[0:4]]).boxplot()\n",
    "ax.set_xticklabels(ax.get_xticklabels(),rotation=60)\n",
    "ax.set_title('Log Transform Boxplots After Standardization')"
   ]
  },
  {
   "cell_type": "code",
   "execution_count": 29,
   "metadata": {},
   "outputs": [
    {
     "name": "stderr",
     "output_type": "stream",
     "text": [
      "/Users/student/opt/anaconda3/lib/python3.7/site-packages/ipykernel_launcher.py:5: RuntimeWarning: divide by zero encountered in log\n",
      "  \"\"\"\n",
      "/Users/student/opt/anaconda3/lib/python3.7/site-packages/ipykernel_launcher.py:5: RuntimeWarning: invalid value encountered in log\n",
      "  \"\"\"\n",
      "/Users/student/opt/anaconda3/lib/python3.7/site-packages/matplotlib/cbook/__init__.py:1157: RuntimeWarning: invalid value encountered in double_scalars\n",
      "  notch_max = med + 1.57 * iqr / np.sqrt(N)\n",
      "/Users/student/opt/anaconda3/lib/python3.7/site-packages/matplotlib/cbook/__init__.py:1211: RuntimeWarning: invalid value encountered in double_scalars\n",
      "  stats['iqr'] = q3 - q1\n",
      "/Users/student/opt/anaconda3/lib/python3.7/site-packages/matplotlib/cbook/__init__.py:1239: RuntimeWarning: invalid value encountered in less_equal\n",
      "  wiskhi = x[x <= hival]\n",
      "/Users/student/opt/anaconda3/lib/python3.7/site-packages/matplotlib/cbook/__init__.py:1246: RuntimeWarning: invalid value encountered in greater_equal\n",
      "  wisklo = x[x >= loval]\n",
      "/Users/student/opt/anaconda3/lib/python3.7/site-packages/numpy/lib/function_base.py:3942: RuntimeWarning: invalid value encountered in multiply\n",
      "  x2 = take(ap, indices_above, axis=axis) * weights_above\n",
      "/Users/student/opt/anaconda3/lib/python3.7/site-packages/ipykernel_launcher.py:10: RuntimeWarning: invalid value encountered in log\n",
      "  # Remove the CWD from sys.path while we load stuff.\n"
     ]
    },
    {
     "data": {
      "text/plain": [
       "Text(0.5, 1.0, 'Log Transform Boxplots After Standardization')"
      ]
     },
     "execution_count": 29,
     "metadata": {},
     "output_type": "execute_result"
    },
    {
     "data": {
      "image/png": "[encoded data removed]",
      "text/plain": [
       "<Figure size 864x288 with 2 Axes>"
      ]
     },
     "metadata": {
      "needs_background": "light"
     },
     "output_type": "display_data"
    }
   ],
   "source": [
    "## Boxplots Before and After Standardization: 'PRI.NO.OF.ACCTS', \n",
    "## 'PRI.ACTIVE.ACCTS', 'PRI.OVERDUE.ACCTS', and 'PRI.CURRENT.BALANCE'\n",
    "plt.subplots(1,2,figsize=(12,4))\n",
    "plt.subplot(1,2,1)\n",
    "ax = np.log(X_train[num_cols[4:8]]).boxplot()\n",
    "ax.set_xticklabels(ax.get_xticklabels(),rotation=60)\n",
    "ax.set_title('Log Transform Boxplots Before Standardization')\n",
    "\n",
    "plt.subplot(1,2,2)\n",
    "ax = np.log(X_train_stand[num_cols[4:8]]).boxplot()\n",
    "ax.set_xticklabels(ax.get_xticklabels(),rotation=60)\n",
    "ax.set_title('Log Transform Boxplots After Standardization')"
   ]
  },
  {
   "cell_type": "code",
   "execution_count": 30,
   "metadata": {},
   "outputs": [
    {
     "name": "stderr",
     "output_type": "stream",
     "text": [
      "/Users/student/opt/anaconda3/lib/python3.7/site-packages/ipykernel_launcher.py:5: RuntimeWarning: divide by zero encountered in log\n",
      "  \"\"\"\n",
      "/Users/student/opt/anaconda3/lib/python3.7/site-packages/matplotlib/cbook/__init__.py:1157: RuntimeWarning: invalid value encountered in double_scalars\n",
      "  notch_max = med + 1.57 * iqr / np.sqrt(N)\n",
      "/Users/student/opt/anaconda3/lib/python3.7/site-packages/matplotlib/cbook/__init__.py:1211: RuntimeWarning: invalid value encountered in double_scalars\n",
      "  stats['iqr'] = q3 - q1\n",
      "/Users/student/opt/anaconda3/lib/python3.7/site-packages/matplotlib/cbook/__init__.py:1239: RuntimeWarning: invalid value encountered in less_equal\n",
      "  wiskhi = x[x <= hival]\n",
      "/Users/student/opt/anaconda3/lib/python3.7/site-packages/matplotlib/cbook/__init__.py:1246: RuntimeWarning: invalid value encountered in greater_equal\n",
      "  wisklo = x[x >= loval]\n",
      "/Users/student/opt/anaconda3/lib/python3.7/site-packages/ipykernel_launcher.py:10: RuntimeWarning: invalid value encountered in log\n",
      "  # Remove the CWD from sys.path while we load stuff.\n"
     ]
    },
    {
     "data": {
      "text/plain": [
       "Text(0.5, 1.0, 'Log Transform Boxplots After Standardization')"
      ]
     },
     "execution_count": 30,
     "metadata": {},
     "output_type": "execute_result"
    },
    {
     "data": {
      "image/png": "[encoded data removed]",
      "text/plain": [
       "<Figure size 864x288 with 2 Axes>"
      ]
     },
     "metadata": {
      "needs_background": "light"
     },
     "output_type": "display_data"
    }
   ],
   "source": [
    "## Boxplots Before and After Standardization: 'PRI.SANCTIONED.AMOUNT', \n",
    "## 'PRI.DISBURSED.AMOUNT', 'SEC.NO.OF.ACCTS', and 'SEC.ACTIVE.ACCTS'\n",
    "plt.subplots(1,2,figsize=(12,4))\n",
    "plt.subplot(1,2,1)\n",
    "ax = np.log(X_train[num_cols[8:12]]).boxplot()\n",
    "ax.set_xticklabels(ax.get_xticklabels(),rotation=60)\n",
    "ax.set_title('Log Transform Boxplots Before Standardization')\n",
    "\n",
    "plt.subplot(1,2,2)\n",
    "ax = np.log(X_train_stand[num_cols[8:12]]).boxplot()\n",
    "ax.set_xticklabels(ax.get_xticklabels(),rotation=60)\n",
    "ax.set_title('Log Transform Boxplots After Standardization')"
   ]
  },
  {
   "cell_type": "code",
   "execution_count": 31,
   "metadata": {},
   "outputs": [
    {
     "name": "stderr",
     "output_type": "stream",
     "text": [
      "/Users/student/opt/anaconda3/lib/python3.7/site-packages/ipykernel_launcher.py:6: RuntimeWarning: divide by zero encountered in log\n",
      "  \n",
      "/Users/student/opt/anaconda3/lib/python3.7/site-packages/ipykernel_launcher.py:6: RuntimeWarning: invalid value encountered in log\n",
      "  \n",
      "/Users/student/opt/anaconda3/lib/python3.7/site-packages/matplotlib/cbook/__init__.py:1211: RuntimeWarning: invalid value encountered in double_scalars\n",
      "  stats['iqr'] = q3 - q1\n",
      "/Users/student/opt/anaconda3/lib/python3.7/site-packages/matplotlib/cbook/__init__.py:1239: RuntimeWarning: invalid value encountered in less_equal\n",
      "  wiskhi = x[x <= hival]\n",
      "/Users/student/opt/anaconda3/lib/python3.7/site-packages/matplotlib/cbook/__init__.py:1246: RuntimeWarning: invalid value encountered in greater_equal\n",
      "  wisklo = x[x >= loval]\n",
      "/Users/student/opt/anaconda3/lib/python3.7/site-packages/numpy/lib/function_base.py:3942: RuntimeWarning: invalid value encountered in multiply\n",
      "  x2 = take(ap, indices_above, axis=axis) * weights_above\n",
      "/Users/student/opt/anaconda3/lib/python3.7/site-packages/matplotlib/cbook/__init__.py:1254: RuntimeWarning: invalid value encountered in less\n",
      "  x[x < stats['whislo']],\n",
      "/Users/student/opt/anaconda3/lib/python3.7/site-packages/matplotlib/cbook/__init__.py:1255: RuntimeWarning: invalid value encountered in greater\n",
      "  x[x > stats['whishi']],\n",
      "/Users/student/opt/anaconda3/lib/python3.7/site-packages/ipykernel_launcher.py:11: RuntimeWarning: invalid value encountered in log\n",
      "  # This is added back by InteractiveShellApp.init_path()\n"
     ]
    },
    {
     "data": {
      "text/plain": [
       "Text(0.5, 1.0, 'Log Transform Boxplots After Standardization')"
      ]
     },
     "execution_count": 31,
     "metadata": {},
     "output_type": "execute_result"
    },
    {
     "data": {
      "image/png": "[encoded data removed]",
      "text/plain": [
       "<Figure size 864x288 with 2 Axes>"
      ]
     },
     "metadata": {
      "needs_background": "light"
     },
     "output_type": "display_data"
    }
   ],
   "source": [
    "## Boxplots Before and After Standardization: 'SEC.OVERDUE.ACCTS', \n",
    "## 'SEC.CURRENT.BALANCE', 'SEC.SANCTIONED.AMOUNT', \n",
    "## and 'SEC.DISBURSED.AMOUNT'\n",
    "plt.subplots(1,2,figsize=(12,4))\n",
    "plt.subplot(1,2,1)\n",
    "ax = np.log(X_train[num_cols[12:16]]).boxplot()\n",
    "ax.set_xticklabels(ax.get_xticklabels(),rotation=60)\n",
    "ax.set_title('Log Transform Boxplots Before Standardization')\n",
    "\n",
    "plt.subplot(1,2,2)\n",
    "ax = np.log(X_train_stand[num_cols[12:16]]).boxplot()\n",
    "ax.set_xticklabels(ax.get_xticklabels(),rotation=60)\n",
    "ax.set_title('Log Transform Boxplots After Standardization')"
   ]
  },
  {
   "cell_type": "code",
   "execution_count": 32,
   "metadata": {},
   "outputs": [
    {
     "name": "stderr",
     "output_type": "stream",
     "text": [
      "/Users/student/opt/anaconda3/lib/python3.7/site-packages/ipykernel_launcher.py:6: RuntimeWarning: divide by zero encountered in log\n",
      "  \n",
      "/Users/student/opt/anaconda3/lib/python3.7/site-packages/matplotlib/cbook/__init__.py:1157: RuntimeWarning: invalid value encountered in double_scalars\n",
      "  notch_max = med + 1.57 * iqr / np.sqrt(N)\n",
      "/Users/student/opt/anaconda3/lib/python3.7/site-packages/matplotlib/cbook/__init__.py:1211: RuntimeWarning: invalid value encountered in double_scalars\n",
      "  stats['iqr'] = q3 - q1\n",
      "/Users/student/opt/anaconda3/lib/python3.7/site-packages/matplotlib/cbook/__init__.py:1239: RuntimeWarning: invalid value encountered in less_equal\n",
      "  wiskhi = x[x <= hival]\n",
      "/Users/student/opt/anaconda3/lib/python3.7/site-packages/matplotlib/cbook/__init__.py:1246: RuntimeWarning: invalid value encountered in greater_equal\n",
      "  wisklo = x[x >= loval]\n",
      "/Users/student/opt/anaconda3/lib/python3.7/site-packages/ipykernel_launcher.py:11: RuntimeWarning: invalid value encountered in log\n",
      "  # This is added back by InteractiveShellApp.init_path()\n"
     ]
    },
    {
     "data": {
      "text/plain": [
       "Text(0.5, 1.0, 'Log Transform Boxplots After Standardization')"
      ]
     },
     "execution_count": 32,
     "metadata": {},
     "output_type": "execute_result"
    },
    {
     "data": {
      "image/png": "[encoded data removed]",
      "text/plain": [
       "<Figure size 864x288 with 2 Axes>"
      ]
     },
     "metadata": {
      "needs_background": "light"
     },
     "output_type": "display_data"
    }
   ],
   "source": [
    "## Boxplots Before and After Standardization: 'PRIMARY.INSTAL.AMT', \n",
    "## 'SEC.INSTAL.AMT', 'NEW.ACCTS.IN.LAST.SIX.MONTHS',\n",
    "## 'DELINQUENT.ACCTS.IN.LAST.SIX.MONTHS', and 'NO.OF_INQUIRIES'\n",
    "plt.subplots(1,2,figsize=(12,4))\n",
    "plt.subplot(1,2,1)\n",
    "ax = np.log(X_train[num_cols[16:21]]).boxplot()\n",
    "ax.set_xticklabels(ax.get_xticklabels(),rotation=60)\n",
    "ax.set_title('Log Transform Boxplots Before Standardization')\n",
    "\n",
    "plt.subplot(1,2,2)\n",
    "ax = np.log(X_train_stand[num_cols[16:21]]).boxplot()\n",
    "ax.set_xticklabels(ax.get_xticklabels(),rotation=60)\n",
    "ax.set_title('Log Transform Boxplots After Standardization')"
   ]
  },
  {
   "cell_type": "markdown",
   "metadata": {},
   "source": [
    "If we look at the statistics for the numerical features for X_train and X_train_stand (where X_train_stand is after the features are standardized), we see that the values are standardized around the mean for the features so we've scaled accordingly. "
   ]
  },
  {
   "cell_type": "markdown",
   "metadata": {},
   "source": [
    "Save the preprocessed dataframe into directory is case we want to see the dataset in a csv format."
   ]
  },
  {
   "cell_type": "code",
   "execution_count": 35,
   "metadata": {},
   "outputs": [],
   "source": [
    "### Save dataframe as a CSV for future use with non-standardized data. \n",
    "import os\n",
    "path=\"/Users/student/Desktop/SpringBoardDSCareerTrack/Capstone 2 Datasets/Vehicle Loan Payments\"\n",
    "os.chdir(path)\n",
    "VL_df.to_csv('VLData_Preprocessed.csv') "
   ]
  },
  {
   "cell_type": "markdown",
   "metadata": {},
   "source": [
    "## Section 2: Modeling"
   ]
  },
  {
   "cell_type": "markdown",
   "metadata": {},
   "source": [
    "In this section, we will use the training and test data from section 1 to build our three models. We will use the standardized trainings sets as inputs for the Decision Tree model and analyze the performance. Then, we will utilize ensemble methods such as Random Forest and Gradient Boosting. \n",
    "\n",
    "We did not use logistic regression and K-nearest neighbor due to slow runtime for a dataset of this size. "
   ]
  },
  {
   "cell_type": "markdown",
   "metadata": {},
   "source": [
    "## Model 1: Decision Tree"
   ]
  },
  {
   "cell_type": "markdown",
   "metadata": {},
   "source": [
    "Import the necessary packages."
   ]
  },
  {
   "cell_type": "code",
   "execution_count": 36,
   "metadata": {},
   "outputs": [],
   "source": [
    "from sklearn.metrics import accuracy_score\n",
    "from sklearn.metrics import f1_score\n",
    "from sklearn.metrics import classification_report,confusion_matrix,roc_curve,roc_auc_score\n",
    "import sklearn.metrics"
   ]
  },
  {
   "cell_type": "markdown",
   "metadata": {},
   "source": [
    "Instantiate and build decision tree model."
   ]
  },
  {
   "cell_type": "code",
   "execution_count": 37,
   "metadata": {},
   "outputs": [
    {
     "data": {
      "text/plain": [
       "DecisionTreeClassifier(random_state=1234)"
      ]
     },
     "execution_count": 37,
     "metadata": {},
     "output_type": "execute_result"
    }
   ],
   "source": [
    "from sklearn import tree, metrics\n",
    "\n",
    "# Build intitial decision tree model. We will use Grid Search CV after.\n",
    "decision_tree = tree.DecisionTreeClassifier(random_state=1234)\n",
    "decision_tree.fit(X_train_stand, y_train)\n",
    "y_pred = decision_tree.predict(X_test_stand)\n",
    "pd.Series(y_pred)\n",
    "decision_tree"
   ]
  },
  {
   "cell_type": "markdown",
   "metadata": {},
   "source": [
    "Next, perform cross validation with the parameters given in param_dict. Obtain the best params for our decision tree model."
   ]
  },
  {
   "cell_type": "code",
   "execution_count": 38,
   "metadata": {},
   "outputs": [
    {
     "name": "stdout",
     "output_type": "stream",
     "text": [
      "Fitting 5 folds for each of 648 candidates, totalling 3240 fits\n"
     ]
    },
    {
     "name": "stderr",
     "output_type": "stream",
     "text": [
      "/Users/student/opt/anaconda3/lib/python3.7/site-packages/sklearn/model_selection/_search.py:921: UserWarning: One or more of the test scores are non-finite: [       nan 0.57050413 0.57050413 0.57050413 0.57050413 0.57050413\n",
      " 0.57050413 0.57050413 0.57050413        nan 0.57050413 0.57050413\n",
      " 0.57050413 0.57050413 0.57050413 0.57050413 0.57050413 0.57050413\n",
      "        nan 0.57050413 0.57050413 0.57050413 0.57050413 0.57050413\n",
      " 0.57050413 0.57050413 0.57050413        nan 0.57050413 0.57050413\n",
      " 0.57050413 0.57050413 0.57050413 0.57050413 0.57050413 0.57050413\n",
      "        nan 0.614511   0.614511   0.614511   0.614511   0.614511\n",
      " 0.614511   0.614511   0.614511          nan 0.614511   0.614511\n",
      " 0.614511   0.614511   0.614511   0.614511   0.614511   0.614511\n",
      "        nan 0.614511   0.614511   0.614511   0.614511   0.614511\n",
      " 0.614511   0.614511   0.614511          nan 0.614511   0.614511\n",
      " 0.614511   0.614511   0.614511   0.614511   0.614511   0.614511\n",
      "        nan 0.6454627  0.6454627  0.6454627  0.6454627  0.6454627\n",
      " 0.6454627  0.6454627  0.6454627         nan 0.6454627  0.6454627\n",
      " 0.6454627  0.6454627  0.6454627  0.6454627  0.6454627  0.6454627\n",
      "        nan 0.6454627  0.6454627  0.6454627  0.6454627  0.6454627\n",
      " 0.6454627  0.6454627  0.6454627         nan 0.6454627  0.6454627\n",
      " 0.6454627  0.6454627  0.6454627  0.6454627  0.6454627  0.6454627\n",
      "        nan 0.68115646 0.68115646 0.68115646 0.68115646 0.68115646\n",
      " 0.68115646 0.68115646 0.68115646        nan 0.68115646 0.68115646\n",
      " 0.68115646 0.68115646 0.68115646 0.68115646 0.68115646 0.68115646\n",
      "        nan 0.68115646 0.68115646 0.68115646 0.68115646 0.68115646\n",
      " 0.68115646 0.68115646 0.68115646        nan 0.68115646 0.68115646\n",
      " 0.68115646 0.68115646 0.68115646 0.68115646 0.68115646 0.68115646\n",
      "        nan 0.69429724 0.69429724 0.69429724 0.69429724 0.69429724\n",
      " 0.69429724 0.69429724 0.69429724        nan 0.69429724 0.69429724\n",
      " 0.69429724 0.69429724 0.69429724 0.69429724 0.69429724 0.69429724\n",
      "        nan 0.69429724 0.69429724 0.69429724 0.69429724 0.69429724\n",
      " 0.69429724 0.69429724 0.69429724        nan 0.69429724 0.69429724\n",
      " 0.69429724 0.69429724 0.69429724 0.69429724 0.69429724 0.69429724\n",
      "        nan 0.71216979 0.71216979 0.71216979 0.71216979 0.71216979\n",
      " 0.71216979 0.71216979 0.71216979        nan 0.71216979 0.71216979\n",
      " 0.71216979 0.71216979 0.71216979 0.71216979 0.71216979 0.71216979\n",
      "        nan 0.71216979 0.71216979 0.71216979 0.71216979 0.71216979\n",
      " 0.71216979 0.71216979 0.71216979        nan 0.71216979 0.71216979\n",
      " 0.71216979 0.71216979 0.71216979 0.71216979 0.71216979 0.71216979\n",
      "        nan 0.71777464 0.71777464 0.71777464 0.71777464 0.71777464\n",
      " 0.71777464 0.71777121 0.71777121        nan 0.71778491 0.71778491\n",
      " 0.71778491 0.71778491 0.71777806 0.71777806 0.71777464 0.71777464\n",
      "        nan 0.71778491 0.71778491 0.71778491 0.71778491 0.71778491\n",
      " 0.71778491 0.71778149 0.71778149        nan 0.71778149 0.71778149\n",
      " 0.71778149 0.71778149 0.71778149 0.71778149 0.71778149 0.71778149\n",
      "        nan 0.72096225 0.72096225 0.72096567 0.72096225 0.72095883\n",
      " 0.72096567 0.72096567 0.72096567        nan 0.7209691  0.7209691\n",
      " 0.7209691  0.72096225 0.72094855 0.7209691  0.72097937 0.72097937\n",
      "        nan 0.72097937 0.72097937 0.72097937 0.72097937 0.72097937\n",
      " 0.72098964 0.72098964 0.72098964        nan 0.72097937 0.72097937\n",
      " 0.72097937 0.72097937 0.72097937 0.72097937 0.72097937 0.72097937\n",
      "        nan 0.73163786 0.73164813 0.73165155 0.73163444 0.73162759\n",
      " 0.73166525 0.73163786 0.73162416        nan 0.7316584  0.7316584\n",
      " 0.7316584  0.73167552 0.73165498 0.73166867 0.73166525 0.73165155\n",
      "        nan 0.73168922 0.73168922 0.73168922 0.73168922 0.73168922\n",
      " 0.73171661 0.73169949 0.73169264        nan 0.73171318 0.73171318\n",
      " 0.73171318 0.73171318 0.73171318 0.73171318 0.73171318 0.73168579\n",
      "        nan 0.57050413 0.57050413 0.57050413 0.57050413 0.57050413\n",
      " 0.57050413 0.57050413 0.57050413        nan 0.57050413 0.57050413\n",
      " 0.57050413 0.57050413 0.57050413 0.57050413 0.57050413 0.57050413\n",
      "        nan 0.57050413 0.57050413 0.57050413 0.57050413 0.57050413\n",
      " 0.57050413 0.57050413 0.57050413        nan 0.57050413 0.57050413\n",
      " 0.57050413 0.57050413 0.57050413 0.57050413 0.57050413 0.57050413\n",
      "        nan 0.614511   0.614511   0.614511   0.614511   0.614511\n",
      " 0.614511   0.614511   0.614511          nan 0.614511   0.614511\n",
      " 0.614511   0.614511   0.614511   0.614511   0.614511   0.614511\n",
      "        nan 0.614511   0.614511   0.614511   0.614511   0.614511\n",
      " 0.614511   0.614511   0.614511          nan 0.614511   0.614511\n",
      " 0.614511   0.614511   0.614511   0.614511   0.614511   0.614511\n",
      "        nan 0.6448738  0.6448738  0.6448738  0.6448738  0.6448738\n",
      " 0.6448738  0.6448738  0.6448738         nan 0.6448738  0.6448738\n",
      " 0.6448738  0.6448738  0.6448738  0.6448738  0.6448738  0.6448738\n",
      "        nan 0.6448738  0.6448738  0.6448738  0.6448738  0.6448738\n",
      " 0.6448738  0.6448738  0.6448738         nan 0.6448738  0.6448738\n",
      " 0.6448738  0.6448738  0.6448738  0.6448738  0.6448738  0.6448738\n",
      "        nan 0.67898231 0.67898231 0.67898231 0.67898231 0.67898231\n",
      " 0.67898231 0.67898231 0.67898231        nan 0.67898231 0.67898231\n",
      " 0.67898231 0.67898231 0.67898231 0.67898231 0.67898231 0.67898231\n",
      "        nan 0.67898231 0.67898231 0.67898231 0.67898231 0.67898231\n",
      " 0.67898231 0.67898231 0.67898231        nan 0.67898231 0.67898231\n",
      " 0.67898231 0.67898231 0.67898231 0.67898231 0.67898231 0.67898231\n",
      "        nan 0.69285237 0.69285237 0.69285237 0.69285237 0.69285237\n",
      " 0.69285237 0.69285237 0.69285237        nan 0.69285237 0.69285237\n",
      " 0.69285237 0.69285237 0.69285237 0.69285237 0.69285237 0.69285237\n",
      "        nan 0.69285237 0.69285237 0.69285237 0.69285237 0.69285237\n",
      " 0.69285237 0.69285237 0.69285237        nan 0.69285237 0.69285237\n",
      " 0.69285237 0.69285237 0.69285237 0.69285237 0.69285237 0.69285237\n",
      "        nan 0.70409291 0.70409291 0.70409291 0.70409291 0.70409291\n",
      " 0.70409291 0.70409291 0.70409291        nan 0.70409291 0.70409291\n",
      " 0.70409291 0.70409291 0.70409291 0.70409291 0.70409291 0.70409291\n",
      "        nan 0.70409633 0.70409633 0.70409633 0.70409633 0.70409633\n",
      " 0.70409633 0.70409633 0.70409633        nan 0.70409633 0.70409633\n",
      " 0.70409633 0.70409633 0.70409633 0.70409633 0.70409633 0.70409633\n",
      "        nan 0.71559364 0.71559021 0.71559021 0.71559021 0.71559021\n",
      " 0.71559021 0.71559021 0.71559021        nan 0.71559021 0.71559021\n",
      " 0.71559021 0.71559021 0.71559021 0.71559021 0.71559021 0.71559021\n",
      "        nan 0.71559364 0.71559364 0.71559364 0.71559364 0.71559364\n",
      " 0.71559364 0.71559364 0.71559364        nan 0.71560048 0.71560048\n",
      " 0.71560048 0.71560048 0.71560048 0.71560048 0.71560048 0.71560048\n",
      "        nan 0.72054454 0.72054111 0.72054111 0.72054454 0.72054454\n",
      " 0.72054111 0.72054796 0.72054796        nan 0.72055481 0.72055481\n",
      " 0.72055481 0.72055823 0.72055823 0.72055481 0.72055823 0.72055823\n",
      "        nan 0.72055481 0.72055481 0.72055481 0.72055481 0.72055481\n",
      " 0.72055481 0.72055823 0.72055823        nan 0.72056166 0.72056166\n",
      " 0.72056166 0.72056166 0.72056166 0.72056166 0.72056166 0.72056166\n",
      "        nan 0.72747443 0.72748127 0.72748127 0.7274847  0.72746758\n",
      " 0.72747443 0.72747443 0.72749839        nan 0.72750524 0.72750524\n",
      " 0.72750524 0.72750524 0.72749497 0.72749839 0.72750866 0.72752578\n",
      "        nan 0.72750524 0.72750524 0.72750524 0.72750524 0.72750524\n",
      " 0.72750866 0.72750866 0.72752921        nan 0.72753948 0.72753948\n",
      " 0.72753948 0.72753948 0.72753948 0.72753948 0.72753948 0.72753263]\n",
      "  category=UserWarning\n"
     ]
    },
    {
     "data": {
      "text/plain": [
       "GridSearchCV(cv=5, estimator=DecisionTreeClassifier(random_state=1234),\n",
       "             n_jobs=-1,\n",
       "             param_grid={'criterion': ['gini', 'entropy'],\n",
       "                         'max_depth': range(1, 10),\n",
       "                         'min_samples_leaf': range(1, 5),\n",
       "                         'min_samples_split': range(1, 10)},\n",
       "             verbose=1)"
      ]
     },
     "execution_count": 38,
     "metadata": {},
     "output_type": "execute_result"
    }
   ],
   "source": [
    "# param_dict will be passed into grid search cross validation\n",
    "param_dict = {\n",
    "    'criterion':['gini', 'entropy'],\n",
    "    'max_depth':range(1,10),\n",
    "    'min_samples_split':range(1,10),\n",
    "    'min_samples_leaf':range(1,5)\n",
    "}\n",
    "\n",
    "# Perform GridSearchCV=\n",
    "grid = GridSearchCV(decision_tree, param_grid=param_dict, cv=5,verbose=1,n_jobs=-1)\n",
    "grid.fit(X_train, y_train)"
   ]
  },
  {
   "cell_type": "code",
   "execution_count": 40,
   "metadata": {},
   "outputs": [
    {
     "name": "stdout",
     "output_type": "stream",
     "text": [
      "The best parameters are  {'criterion': 'gini', 'max_depth': 9, 'min_samples_leaf': 3, 'min_samples_split': 7}\n",
      "The respective estimator is  DecisionTreeClassifier(max_depth=9, min_samples_leaf=3, min_samples_split=7,\n",
      "                       random_state=1234)\n",
      "The corresponding best score is  0.731716607677505\n"
     ]
    }
   ],
   "source": [
    "print('The best parameters are ',grid.best_params_)\n",
    "print('The respective estimator is ', grid.best_estimator_)\n",
    "print('The corresponding best score is ',grid.best_score_)"
   ]
  },
  {
   "cell_type": "markdown",
   "metadata": {},
   "source": [
    "Finalize our best decision model with our best_params_ and assign to model 1. "
   ]
  },
  {
   "cell_type": "code",
   "execution_count": 44,
   "metadata": {},
   "outputs": [],
   "source": [
    "# model_1 will be our decision tree with the best_params_ from grid search passed in\n",
    "model_1 = tree.DecisionTreeClassifier(criterion ='gini', random_state= 1234, \n",
    "                                            max_depth  = 9, min_samples_split=7, min_samples_leaf=3)\n",
    "model_1.fit(X_train_stand, y_train)\n",
    "y_pred = model_1.predict(X_test_stand)"
   ]
  },
  {
   "cell_type": "markdown",
   "metadata": {},
   "source": [
    "Print the accuracy score, f1 score and the classification report."
   ]
  },
  {
   "cell_type": "code",
   "execution_count": 45,
   "metadata": {},
   "outputs": [
    {
     "name": "stdout",
     "output_type": "stream",
     "text": [
      "Random Forest: Accuracy=0.732\n",
      "Random Forest: f1-score=0.726\n",
      "              precision    recall  f1-score   support\n",
      "\n",
      "           0       0.68      0.88      0.77     36561\n",
      "           1       0.83      0.59      0.69     36457\n",
      "\n",
      "    accuracy                           0.73     73018\n",
      "   macro avg       0.75      0.73      0.73     73018\n",
      "weighted avg       0.75      0.73      0.73     73018\n",
      "\n"
     ]
    }
   ],
   "source": [
    "ac = accuracy_score(y_test, y_pred)\n",
    "f1 = f1_score(y_test, y_pred, average='weighted')\n",
    "cm = confusion_matrix(y_test, y_pred)\n",
    "print('Random Forest: Accuracy=%.3f' % (ac))\n",
    "print('Random Forest: f1-score=%.3f' % (f1))\n",
    "print(sklearn.metrics.classification_report(y_test, y_pred))"
   ]
  },
  {
   "cell_type": "markdown",
   "metadata": {},
   "source": [
    "Print out the importance of each feature to the model."
   ]
  },
  {
   "cell_type": "code",
   "execution_count": 47,
   "metadata": {
    "scrolled": true
   },
   "outputs": [
    {
     "name": "stdout",
     "output_type": "stream",
     "text": [
      "30\n"
     ]
    },
    {
     "data": {
      "image/png": "[encoded data removed]",
      "text/plain": [
       "<Figure size 720x720 with 1 Axes>"
      ]
     },
     "metadata": {
      "needs_background": "light"
     },
     "output_type": "display_data"
    }
   ],
   "source": [
    "feature_importance = model_1.feature_importances_\n",
    "# make importances relative to max importance\n",
    "feature_importance = 100.0 * (feature_importance / feature_importance.max())[:30]\n",
    "sorted_idx = np.argsort(feature_importance)[:30]\n",
    "\n",
    "pos = np.arange(sorted_idx.shape[0]) + .5\n",
    "print(pos.size)\n",
    "sorted_idx.size\n",
    "plt.figure(figsize=(10,10))\n",
    "plt.barh(pos, feature_importance[sorted_idx], align='center')\n",
    "plt.yticks(pos, X.columns[sorted_idx])\n",
    "plt.xlabel('Relative Importance')\n",
    "plt.title('Variable Importance with Decision Tree')\n",
    "plt.show()"
   ]
  },
  {
   "cell_type": "markdown",
   "metadata": {},
   "source": [
    "## Model 2: Random Forest"
   ]
  },
  {
   "cell_type": "code",
   "execution_count": 48,
   "metadata": {},
   "outputs": [
    {
     "name": "stdout",
     "output_type": "stream",
     "text": [
      "Random Forest: Accuracy=0.839\n",
      "Random Forest: f1-score=0.838\n",
      "              precision    recall  f1-score   support\n",
      "\n",
      "           0       0.79      0.93      0.85     36561\n",
      "           1       0.91      0.75      0.82     36457\n",
      "\n",
      "    accuracy                           0.84     73018\n",
      "   macro avg       0.85      0.84      0.84     73018\n",
      "weighted avg       0.85      0.84      0.84     73018\n",
      "\n"
     ]
    }
   ],
   "source": [
    "from sklearn.ensemble import RandomForestClassifier\n",
    "\n",
    "# Build standard random forest classifier model with 100 estimators\n",
    "rf = RandomForestClassifier(n_estimators = 100, random_state=1234)\n",
    "model_2 = rf.fit(X_train_stand, y_train)\n",
    "y_pred = model_2.predict(X_test_stand)\n",
    "y_pred_prob = model_2.predict_proba(X_test_stand)\n",
    "lr_probs = y_pred_prob[:1]\n",
    "\n",
    "# obtain the accuracy, f1 and confustion matrrix\n",
    "ac = accuracy_score(y_test, y_pred)\n",
    "f1 = f1_score(y_test, y_pred, average='weighted')\n",
    "cm = confusion_matrix(y_test, y_pred)\n",
    "\n",
    "# print results\n",
    "print('Random Forest: Accuracy=%.3f' % (ac))\n",
    "print('Random Forest: f1-score=%.3f' % (f1))\n",
    "print(sklearn.metrics.classification_report(y_test, y_pred))"
   ]
  },
  {
   "cell_type": "code",
   "execution_count": null,
   "metadata": {},
   "outputs": [],
   "source": [
    "# param_grid = {\n",
    "#     'bootstrap':[True],\n",
    "#     'max_depth':[80,90,100,110],\n",
    "#     'max_features':[2,3],\n",
    "#     'min_samples_leaf':[3,4,5],\n",
    "#     'min_samples_split':[8,10,12],\n",
    "#     'n_estimators':[100,200,300,400]\n",
    "# }\n",
    "\n",
    "# rf = RandomForestClassifier()\n",
    "\n",
    "# grid_search = GridSearchCV(estimator = rf, param_grid = param_grid, cv = 3, n_jobs=-1,verbose=2)"
   ]
  },
  {
   "cell_type": "code",
   "execution_count": null,
   "metadata": {},
   "outputs": [],
   "source": [
    "# grid_search.fit(X_train_stand, y_train)\n",
    "# print(grid_search.best_params_)"
   ]
  },
  {
   "cell_type": "markdown",
   "metadata": {},
   "source": [
    "Print out the important features."
   ]
  },
  {
   "cell_type": "code",
   "execution_count": 50,
   "metadata": {
    "scrolled": true
   },
   "outputs": [
    {
     "name": "stdout",
     "output_type": "stream",
     "text": [
      "30\n"
     ]
    },
    {
     "data": {
      "image/png": "[encoded data removed]",
      "text/plain": [
       "<Figure size 720x720 with 1 Axes>"
      ]
     },
     "metadata": {
      "needs_background": "light"
     },
     "output_type": "display_data"
    }
   ],
   "source": [
    "# print out importance of each feature\n",
    "\n",
    "feature_importance = model_2.feature_importances_\n",
    "# make importances relative to max importance\n",
    "feature_importance = 100.0 * (feature_importance / feature_importance.max())[:30]\n",
    "sorted_idx = np.argsort(feature_importance)[:30]\n",
    "\n",
    "pos = np.arange(sorted_idx.shape[0]) + .5\n",
    "print(pos.size)\n",
    "sorted_idx.size\n",
    "plt.figure(figsize=(10,10))\n",
    "plt.barh(pos, feature_importance[sorted_idx], align='center')\n",
    "plt.yticks(pos, X.columns[sorted_idx])\n",
    "plt.xlabel('Relative Importance')\n",
    "plt.title('Variable Importance with Random Forest')\n",
    "plt.show()"
   ]
  },
  {
   "cell_type": "markdown",
   "metadata": {},
   "source": [
    "## Model 3: Gradient Boosting"
   ]
  },
  {
   "cell_type": "code",
   "execution_count": 51,
   "metadata": {},
   "outputs": [],
   "source": [
    "from sklearn.datasets import make_hastie_10_2\n",
    "from sklearn.ensemble import GradientBoostingClassifier"
   ]
  },
  {
   "cell_type": "code",
   "execution_count": 52,
   "metadata": {
    "scrolled": true
   },
   "outputs": [
    {
     "name": "stdout",
     "output_type": "stream",
     "text": [
      "Gradient Boost: Accuracy=0.820\n",
      "Gradient Boost: f1-score=0.818\n",
      "              precision    recall  f1-score   support\n",
      "\n",
      "           0       0.76      0.93      0.84     36561\n",
      "           1       0.91      0.71      0.80     36457\n",
      "\n",
      "    accuracy                           0.82     73018\n",
      "   macro avg       0.83      0.82      0.82     73018\n",
      "weighted avg       0.83      0.82      0.82     73018\n",
      "\n"
     ]
    }
   ],
   "source": [
    "# Instantiate and build gradient boosting decision tree with 100 estimators and learning rate of 1\n",
    "gb = GradientBoostingClassifier(n_estimators=100, learning_rate=1.0, \n",
    "                                 random_state=0).fit(X_train, y_train)\n",
    "model_3 = gb.fit(X_train_stand, y_train)\n",
    "y_pred = model_3.predict(X_test_stand)\n",
    "\n",
    "# obtain accuracy, f-1 score and confusion matrix\n",
    "ac = accuracy_score(y_test, y_pred)\n",
    "f1 = f1_score(y_test, y_pred, average='weighted')\n",
    "cm = confusion_matrix(y_test, y_pred)\n",
    "\n",
    "print('Gradient Boost: Accuracy=%.3f' % (ac))\n",
    "print('Gradient Boost: f1-score=%.3f' % f1)\n",
    "print(sklearn.metrics.classification_report(y_test, y_pred))"
   ]
  },
  {
   "cell_type": "code",
   "execution_count": 53,
   "metadata": {},
   "outputs": [
    {
     "name": "stdout",
     "output_type": "stream",
     "text": [
      "30\n"
     ]
    },
    {
     "data": {
      "image/png": "[encoded data removed]",
      "text/plain": [
       "<Figure size 720x720 with 1 Axes>"
      ]
     },
     "metadata": {
      "needs_background": "light"
     },
     "output_type": "display_data"
    }
   ],
   "source": [
    "# print out importance of each feature\n",
    "\n",
    "feature_importance = model_3.feature_importances_\n",
    "# make importances relative to max importance\n",
    "feature_importance = 100.0 * (feature_importance / feature_importance.max())[:30]\n",
    "sorted_idx = np.argsort(feature_importance)[:30]\n",
    "\n",
    "pos = np.arange(sorted_idx.shape[0]) + .5\n",
    "print(pos.size)\n",
    "sorted_idx.size\n",
    "plt.figure(figsize=(10,10))\n",
    "plt.barh(pos, feature_importance[sorted_idx], align='center')\n",
    "plt.yticks(pos, X.columns[sorted_idx])\n",
    "plt.xlabel('Relative Importance')\n",
    "plt.title('Variable Importance with Gradient Boosting')\n",
    "plt.show()"
   ]
  },
  {
   "cell_type": "markdown",
   "metadata": {},
   "source": [
    "Based off the accuracy score, model_2 (Random Forest) appears to have the highest score. It also has the highest precision and recall scores in the confusion matrix for the value of 1 (defaulters). In all three models, manufacturer is the most important feature for the model. "
   ]
  },
  {
   "cell_type": "code",
   "execution_count": null,
   "metadata": {},
   "outputs": [],
   "source": []
  }
 ],
 "metadata": {
  "kernelspec": {
   "display_name": "Python 3",
   "language": "python",
   "name": "python3"
  },
  "language_info": {
   "codemirror_mode": {
    "name": "ipython",
    "version": 3
   },
   "file_extension": ".py",
   "mimetype": "text/x-python",
   "name": "python",
   "nbconvert_exporter": "python",
   "pygments_lexer": "ipython3",
   "version": "3.7.6"
  }
 },
 "nbformat": 4,
 "nbformat_minor": 4
}
