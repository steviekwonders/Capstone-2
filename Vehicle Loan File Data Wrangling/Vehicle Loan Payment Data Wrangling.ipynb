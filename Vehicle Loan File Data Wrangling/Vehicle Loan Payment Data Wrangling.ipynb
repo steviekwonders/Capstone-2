{
 "cells": [
  {
   "cell_type": "code",
   "execution_count": 1,
   "metadata": {},
   "outputs": [],
   "source": [
    "# Import needed packages\n",
    "\n",
    "import pandas as pd\n",
    "import os"
   ]
  },
  {
   "cell_type": "code",
   "execution_count": 2,
   "metadata": {},
   "outputs": [
    {
     "data": {
      "text/plain": [
       "'/Users/student/Desktop/SpringBoardDSCareerTrack/Capstone 2 Datasets/Vehicle Loan Payments'"
      ]
     },
     "execution_count": 2,
     "metadata": {},
     "output_type": "execute_result"
    }
   ],
   "source": [
    "# Go to directory folder where our dataset exists\n",
    "\n",
    "path=\"/Users/student/Desktop/SpringBoardDSCareerTrack/Capstone 2 Datasets/Vehicle Loan Payments\"\n",
    "os.chdir(path)\n",
    "os.getcwd()"
   ]
  },
  {
   "cell_type": "code",
   "execution_count": 3,
   "metadata": {},
   "outputs": [
    {
     "name": "stdout",
     "output_type": "stream",
     "text": [
      "<class 'pandas.core.frame.DataFrame'>\n",
      "RangeIndex: 112392 entries, 0 to 112391\n",
      "Data columns (total 40 columns):\n",
      " #   Column                               Non-Null Count   Dtype  \n",
      "---  ------                               --------------   -----  \n",
      " 0   UniqueID                             112392 non-null  int64  \n",
      " 1   disbursed_amount                     112392 non-null  int64  \n",
      " 2   asset_cost                           112392 non-null  int64  \n",
      " 3   ltv                                  112392 non-null  float64\n",
      " 4   branch_id                            112392 non-null  int64  \n",
      " 5   supplier_id                          112392 non-null  int64  \n",
      " 6   manufacturer_id                      112392 non-null  int64  \n",
      " 7   Current_pincode_ID                   112392 non-null  int64  \n",
      " 8   Date.of.Birth                        112392 non-null  object \n",
      " 9   Employment.Type                      108949 non-null  object \n",
      " 10  DisbursalDate                        112392 non-null  object \n",
      " 11  State_ID                             112392 non-null  int64  \n",
      " 12  Employee_code_ID                     112392 non-null  int64  \n",
      " 13  MobileNo_Avl_Flag                    112392 non-null  int64  \n",
      " 14  Aadhar_flag                          112392 non-null  int64  \n",
      " 15  PAN_flag                             112392 non-null  int64  \n",
      " 16  VoterID_flag                         112392 non-null  int64  \n",
      " 17  Driving_flag                         112392 non-null  int64  \n",
      " 18  Passport_flag                        112392 non-null  int64  \n",
      " 19  PERFORM_CNS.SCORE                    112392 non-null  int64  \n",
      " 20  PERFORM_CNS.SCORE.DESCRIPTION        112392 non-null  object \n",
      " 21  PRI.NO.OF.ACCTS                      112392 non-null  int64  \n",
      " 22  PRI.ACTIVE.ACCTS                     112392 non-null  int64  \n",
      " 23  PRI.OVERDUE.ACCTS                    112392 non-null  int64  \n",
      " 24  PRI.CURRENT.BALANCE                  112392 non-null  int64  \n",
      " 25  PRI.SANCTIONED.AMOUNT                112392 non-null  int64  \n",
      " 26  PRI.DISBURSED.AMOUNT                 112392 non-null  int64  \n",
      " 27  SEC.NO.OF.ACCTS                      112392 non-null  int64  \n",
      " 28  SEC.ACTIVE.ACCTS                     112392 non-null  int64  \n",
      " 29  SEC.OVERDUE.ACCTS                    112392 non-null  int64  \n",
      " 30  SEC.CURRENT.BALANCE                  112392 non-null  int64  \n",
      " 31  SEC.SANCTIONED.AMOUNT                112392 non-null  int64  \n",
      " 32  SEC.DISBURSED.AMOUNT                 112392 non-null  int64  \n",
      " 33  PRIMARY.INSTAL.AMT                   112392 non-null  int64  \n",
      " 34  SEC.INSTAL.AMT                       112392 non-null  int64  \n",
      " 35  NEW.ACCTS.IN.LAST.SIX.MONTHS         112392 non-null  int64  \n",
      " 36  DELINQUENT.ACCTS.IN.LAST.SIX.MONTHS  112392 non-null  int64  \n",
      " 37  AVERAGE.ACCT.AGE                     112392 non-null  object \n",
      " 38  CREDIT.HISTORY.LENGTH                112392 non-null  object \n",
      " 39  NO.OF_INQUIRIES                      112392 non-null  int64  \n",
      "dtypes: float64(1), int64(33), object(6)\n",
      "memory usage: 34.3+ MB\n"
     ]
    }
   ],
   "source": [
    "# Import data as a pandas dataframe\n",
    "\n",
    "df = pd.read_csv('test.csv')\n",
    "df.info()"
   ]
  },
  {
   "cell_type": "code",
   "execution_count": null,
   "metadata": {},
   "outputs": [],
   "source": []
  }
 ],
 "metadata": {
  "kernelspec": {
   "display_name": "Python 3",
   "language": "python",
   "name": "python3"
  },
  "language_info": {
   "codemirror_mode": {
    "name": "ipython",
    "version": 3
   },
   "file_extension": ".py",
   "mimetype": "text/x-python",
   "name": "python",
   "nbconvert_exporter": "python",
   "pygments_lexer": "ipython3",
   "version": "3.7.6"
  }
 },
 "nbformat": 4,
 "nbformat_minor": 4
}
