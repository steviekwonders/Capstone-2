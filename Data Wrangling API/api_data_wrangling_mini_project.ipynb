{
 "cells": [
  {
   "cell_type": "markdown",
   "metadata": {},
   "source": [
    "This exercise will require you to pull some data from the Qunadl API. Qaundl is currently the most widely used aggregator of financial market data."
   ]
  },
  {
   "cell_type": "markdown",
   "metadata": {},
   "source": [
    "As a first step, you will need to register a free account on the http://www.quandl.com website."
   ]
  },
  {
   "cell_type": "markdown",
   "metadata": {},
   "source": [
    "After you register, you will be provided with a unique API key, that you should store:"
   ]
  },
  {
   "cell_type": "code",
   "execution_count": 23,
   "metadata": {},
   "outputs": [],
   "source": [
    "# Store the API key as a string - according to PEP8, constants are always named in all upper case\n"
   ]
  },
  {
   "cell_type": "markdown",
   "metadata": {},
   "source": [
    "Qaundl has a large number of data sources, but, unfortunately, most of them require a Premium subscription. Still, there are also a good number of free datasets."
   ]
  },
  {
   "cell_type": "markdown",
   "metadata": {},
   "source": [
    "For this mini project, we will focus on equities data from the Frankfurt Stock Exhange (FSE), which is available for free. We'll try and analyze the stock prices of a company called Carl Zeiss Meditec, which manufactures tools for eye examinations, as well as medical lasers for laser eye surgery: https://www.zeiss.com/meditec/int/home.html. The company is listed under the stock ticker AFX_X."
   ]
  },
  {
   "cell_type": "markdown",
   "metadata": {},
   "source": [
    "You can find the detailed Quandl API instructions here: https://docs.quandl.com/docs/time-series"
   ]
  },
  {
   "cell_type": "markdown",
   "metadata": {},
   "source": [
    "While there is a dedicated Python package for connecting to the Quandl API, we would prefer that you use the *requests* package, which can be easily downloaded using *pip* or *conda*. You can find the documentation for the package here: http://docs.python-requests.org/en/master/ "
   ]
  },
  {
   "cell_type": "markdown",
   "metadata": {},
   "source": [
    "Finally, apart from the *requests* package, you are encouraged to not use any third party Python packages, such as *pandas*, and instead focus on what's available in the Python Standard Library (the *collections* module might come in handy: https://pymotw.com/3/collections/ ).\n",
    "Also, since you won't have access to DataFrames, you are encouraged to us Python's native data structures - preferably dictionaries, though some questions can also be answered using lists.\n",
    "You can read more on these data structures here: https://docs.python.org/3/tutorial/datastructures.html"
   ]
  },
  {
   "cell_type": "markdown",
   "metadata": {},
   "source": [
    "Keep in mind that the JSON responses you will be getting from the API map almost one-to-one to Python's dictionaries. Unfortunately, they can be very nested, so make sure you read up on indexing dictionaries in the documentation provided above."
   ]
  },
  {
   "cell_type": "code",
   "execution_count": 67,
   "metadata": {},
   "outputs": [],
   "source": [
    "# First, import the relevant modules\n",
    "import requests\n",
    "import collections"
   ]
  },
  {
   "cell_type": "code",
   "execution_count": 201,
   "metadata": {
    "scrolled": true
   },
   "outputs": [
    {
     "name": "stdout",
     "output_type": "stream",
     "text": [
      "Stock data for Zeiss on June 15, 2020: [['2017-06-15', 46.34, 46.34, 45.21, 45.67, None, 101733.0, 4635593.0, None, None, None]]\n"
     ]
    }
   ],
   "source": [
    "# Now, call the Quandl API and pull out a small sample of the data (only one day) to get a glimpse\n",
    "# into the JSON structure that will be returned\n",
    "\n",
    "# Left out api_key portion need for url. Should be typed in after question mark in form of ...json?api_key=...\n",
    "url = 'https://www.quandl.com/api/v3/datasets/FSE/AFX_X.json?'   \n",
    "zeiss_json = requests.get(url).json()\n",
    "zeiss_list = zeiss_json['dataset']['data'] # List of lists for Zeiss data in Quandl page\n",
    "\n",
    "# Find data for Zeiss stock on June 15, 2020\n",
    "june_15_2020 = [item for item in zeiss_list if item[0] == '2017-06-15']\n",
    "print('Stock data for Zeiss on June 15, 2020:', june_15_2020)"
   ]
  },
  {
   "cell_type": "code",
   "execution_count": 215,
   "metadata": {},
   "outputs": [
    {
     "name": "stdout",
     "output_type": "stream",
     "text": [
      "The imported JSON structure stored as zeiss_json is of type:  <class 'dict'>\n",
      "The key for Zeiss dictionary is: dict_keys(['dataset'])\n",
      "The value for Zeiss dictionary is of the following type:  <class 'dict_values'>\n",
      "We have a dictionary of dictionaries! Let us explore the inner dictionary.\n",
      "The keys for our inner dictionary is: dict_keys(['id', 'dataset_code', 'database_code', 'name', 'description', 'refreshed_at', 'newest_available_date', 'oldest_available_date', 'column_names', 'frequency', 'type', 'premium', 'limit', 'transform', 'column_index', 'start_date', 'end_date', 'data', 'collapse', 'order', 'database_id'])\n"
     ]
    }
   ],
   "source": [
    "# Inspect the JSON structure of the object you created, and take note of how nested it is,\n",
    "# as well as the overall structure\n",
    "print('The imported JSON structure stored as zeiss_json is of type: ',type(zeiss_json))\n",
    "print('The key for Zeiss dictionary is:', zeiss_json.keys())\n",
    "print('The value for Zeiss dictionary is of the following type: ', type(zeiss_json.values()))\n",
    "print('We have a dictionary of dictionaries! Let us explore the inner dictionary.')\n",
    "print('The keys for our inner dictionary is:', zeiss_json['dataset'].keys())\n",
    "\n",
    "# Uncomment code below if you want to take a look at the data structure of zeiss_json yourself. \n",
    "# print(zeiss_json) "
   ]
  },
  {
   "cell_type": "markdown",
   "metadata": {},
   "source": [
    "These are your tasks for this mini project:\n",
    "\n",
    "1. Collect data from the Franfurt Stock Exchange, for the ticker AFX_X, for the whole year 2017 (keep in mind that the date format is YYYY-MM-DD).\n",
    "2. Convert the returned JSON object into a Python dictionary.\n",
    "3. Calculate what the highest and lowest opening prices were for the stock in this period.\n",
    "4. What was the largest change in any one day (based on High and Low price)?\n",
    "5. What was the largest change between any two days (based on Closing Price)?\n",
    "6. What was the average daily trading volume during this year?\n",
    "7. (Optional) What was the median trading volume during this year. (Note: you may need to implement your own function for calculating the median.)"
   ]
  },
  {
   "cell_type": "code",
   "execution_count": 204,
   "metadata": {},
   "outputs": [
    {
     "name": "stdout",
     "output_type": "stream",
     "text": [
      "This is the Zeiss data for 2017:  [['2017-12-29', 51.76, 51.94, 51.45, 51.76, None, 34640.0, 1792304.0, None, None, None], ['2017-12-28', 51.65, 51.82, 51.43, 51.6, None, 40660.0, 2099024.0, None, None, None], ['2017-12-27', 51.45, 51.89, 50.76, 51.82, None, 57452.0, 2957018.0, None, None, None], ['2017-12-22', 51.05, 51.5, 50.92, 51.32, None, 71165.0, 3641949.0, None, None, None], ['2017-12-21', 51.16, 51.52, 50.9, 51.4, None, 120649.0, 6179433.0, None, None, None]]\n"
     ]
    }
   ],
   "source": [
    "### 1. Data for Zeiss in year 2017\n",
    "\n",
    "# The data for Zeiss are values associated with the key 'data'. The values is a list of lists. \n",
    "zeiss_list = zeiss_json['dataset']['data']\n",
    "\n",
    "list_2017 = []   # Empty list. We will store this list for data for the year of 2017.\n",
    "\n",
    "for thisList in zeiss_list:               # This for loop will store data into list_2017\n",
    "    if thisList[0].startswith('2017'):\n",
    "        list_2017.append(thisList)\n",
    "\n",
    "print('This is the Zeiss data for 2017: ', list_2017[0:5])"
   ]
  },
  {
   "cell_type": "code",
   "execution_count": 209,
   "metadata": {},
   "outputs": [
    {
     "name": "stdout",
     "output_type": "stream",
     "text": [
      "Date: ['2017-12-29', '2017-12-28', '2017-12-27', '2017-12-22', '2017-12-21']\n",
      "Open: [51.76, 51.65, 51.45, 51.05, 51.16]\n",
      "High: [51.94, 51.82, 51.89, 51.5, 51.52]\n",
      "Low: [51.45, 51.43, 50.76, 50.92, 50.9]\n",
      "Close: [51.76, 51.6, 51.82, 51.32, 51.4]\n",
      "Change: [None, None, None, None, None]\n",
      "Traded Volume: [34640.0, 40660.0, 57452.0, 71165.0, 120649.0]\n",
      "Turnover: [1792304.0, 2099024.0, 2957018.0, 3641949.0, 6179433.0]\n",
      "Last Price of the Day: [None, None, None, None, None]\n",
      "Daily Traded Units: [None, None, None, None, None]\n",
      "Daily Turnover: [None, None, None, None, None]\n"
     ]
    }
   ],
   "source": [
    "### 2. Convert Json Object into Python Dictionary\n",
    "\n",
    "# Get the column names which will be our keys\n",
    "zeiss_keys = zeiss_json['dataset']['column_names']\n",
    "\n",
    "# Initialize dictionary: zeiss_dict. Will eventually be filled as key, value pairs\n",
    "zeiss_dict = {}\n",
    "\n",
    "# Initialize keys' values with empty lists. We will store values in a list for each key. \n",
    "for key in zeiss_keys:\n",
    "    zeiss_dict[key] = []\n",
    "\n",
    "# This while loop will match the keys with their associated values into our dictionary zeiss_dict \n",
    "i = 0\n",
    "while i < len(zeiss_keys):\n",
    "    j = 0\n",
    "    while j < len(list_2017):\n",
    "        zeiss_dict[zeiss_keys[i]].append(list_2017[j][i])\n",
    "        j+=1\n",
    "    i+=1\n",
    "\n",
    "# Check out the contents of our dictionary.\n",
    "for key in zeiss_dict:\n",
    "    print(key + ':', zeiss_dict[key][0:5])"
   ]
  },
  {
   "cell_type": "code",
   "execution_count": 192,
   "metadata": {},
   "outputs": [
    {
     "name": "stdout",
     "output_type": "stream",
     "text": [
      "The lowest opening stock price for Zeiss is: $ 34.0\n",
      "The highest opening stock price for Zeiss is: $ 53.11\n"
     ]
    }
   ],
   "source": [
    "### 3. Calculate the highest and lowest opening price values in 2017. \n",
    "\n",
    "# Let's first check the key values of our dict to find key name for opening price:\n",
    "zeiss_dict.keys()\n",
    "\n",
    "# Since the value for key 'Open' is a list, we can use min and max method (on the list) to find our values. \n",
    "# We must also take into account None values. \n",
    "low_open = min(x for x in zeiss_dict['Open'] if x is not None) \n",
    "high_open = max(x for x in zeiss_dict['Open'] if x is not None)\n",
    "\n",
    "# Print our results\n",
    "print('The lowest opening stock price for Zeiss is: $', round(low_open,2))\n",
    "print('The highest opening stock price for Zeiss is: $', round(high_open, 2))"
   ]
  },
  {
   "cell_type": "code",
   "execution_count": 193,
   "metadata": {},
   "outputs": [
    {
     "name": "stdout",
     "output_type": "stream",
     "text": [
      "The largest price change in one day is: $ 2.81\n"
     ]
    }
   ],
   "source": [
    "### 4. Largest change in one day (high and low price)\n",
    "\n",
    "# Check that length of list for low and high is same. \n",
    "len(zeiss_dict['Low']) == len(zeiss_dict['High'])  # Returns True. Print if you want to check. \n",
    "\n",
    "# Initailize for our while loop which will find largest price change: largest_ch\n",
    "i = 0 \n",
    "largest_ch = 0\n",
    "length = len(zeiss_dict['Low'])\n",
    "\n",
    "while i < length:\n",
    "    if zeiss_dict['High'][i] - zeiss_dict['Low'][i] > largest_ch:\n",
    "        largest_ch = zeiss_dict['High'][i] - zeiss_dict['Low'][i]\n",
    "    elif zeiss_dict['High'][i] == None or zeiss_dict['Low'][i] == None:\n",
    "        largest_ch = largest_ch\n",
    "    else: \n",
    "        largest_ch = largest_ch\n",
    "    i += 1\n",
    "\n",
    "print('The largest price change in one day is: $', round(largest_ch,2))        "
   ]
  },
  {
   "cell_type": "code",
   "execution_count": 194,
   "metadata": {},
   "outputs": [
    {
     "name": "stdout",
     "output_type": "stream",
     "text": [
      "The largest day change in closing price is: $ 2.56\n"
     ]
    }
   ],
   "source": [
    "### 5. Largest change between two days based off Closing Price\n",
    "\n",
    "# Intialize \n",
    "i = 0\n",
    "clPriceCh = 0\n",
    "length = len(zeiss_dict['Close'])\n",
    "\n",
    "while i < length - 1:\n",
    "    if abs(zeiss_dict['Close'][i+1] - zeiss_dict['Close'][i]) > clPriceCh:\n",
    "        clPriceCh = abs(zeiss_dict['Close'][i+1] - zeiss_dict['Close'][i])\n",
    "    elif zeiss_dict['Close'][i] or zeiss_dict['Close'][i+1]  == None:\n",
    "        clPriceCh = clPriceCh\n",
    "    else: \n",
    "        clPriceCh = clPriceCh\n",
    "    i += 1\n",
    "\n",
    "print('The largest day change in closing price is: $', round(clPriceCh,2))"
   ]
  },
  {
   "cell_type": "code",
   "execution_count": 195,
   "metadata": {},
   "outputs": [
    {
     "name": "stdout",
     "output_type": "stream",
     "text": [
      "The average trading volume for Zeiss in 2017 is: $ 89124.34\n"
     ]
    }
   ],
   "source": [
    "### 6. Average Trading Volume in 2017\n",
    "\n",
    "# Obtain average by taking sum of values and dividing by the length. \n",
    "average = sum(zeiss_dict['Traded Volume'])/len(zeiss_dict['Traded Volume'])\n",
    "print('The average trading volume for Zeiss in 2017 is: $', round(average, 2))"
   ]
  },
  {
   "cell_type": "code",
   "execution_count": 197,
   "metadata": {},
   "outputs": [
    {
     "name": "stdout",
     "output_type": "stream",
     "text": [
      "The median trading volume for Zeiss in 2017 is: $ 76286.0\n"
     ]
    }
   ],
   "source": [
    "### 7. Median Trading Volume in 2017. \n",
    "\n",
    "# This function will calculate the median given a list and its length.\n",
    "def median(our_list, length):\n",
    "    sorted_list = sorted(our_list)\n",
    "    if length % 2 == 1:\n",
    "        the_median = sorted_list[int((length - 1) /2)]     # since lists are indexed from 0\n",
    "    else:\n",
    "        the_median = (sorted_list[int(length/2)] + sorted_list[int((length/2)-1)]) / 2\n",
    "    return the_median\n",
    "\n",
    "# Obtain Trading Volume List and its length as parameters to feed into function.\n",
    "tr_vol_list = zeiss_dict['Traded Volume']\n",
    "tr_vol_len = len(zeiss_dict['Traded Volume'])\n",
    "med = median(tr_vol_list, tr_vol_len)\n",
    "\n",
    "# Print median trading volume value.\n",
    "print('The median trading volume for Zeiss in 2017 is: $', round(med,2))"
   ]
  }
 ],
 "metadata": {
  "kernelspec": {
   "display_name": "Python 3",
   "language": "python",
   "name": "python3"
  },
  "language_info": {
   "codemirror_mode": {
    "name": "ipython",
    "version": 3
   },
   "file_extension": ".py",
   "mimetype": "text/x-python",
   "name": "python",
   "nbconvert_exporter": "python",
   "pygments_lexer": "ipython3",
   "version": "3.7.6"
  }
 },
 "nbformat": 4,
 "nbformat_minor": 2
}
