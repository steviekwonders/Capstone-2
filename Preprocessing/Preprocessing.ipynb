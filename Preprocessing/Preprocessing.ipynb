{
 "cells": [
  {
   "cell_type": "markdown",
   "metadata": {},
   "source": [
    "## Section 1: Preprocessing"
   ]
  },
  {
   "cell_type": "markdown",
   "metadata": {},
   "source": [
    "In this section, we will preprocess our dataset which consists of two main steps. In the first step, we will revise some features such as dates by splitting into seperate columns (Month, Day, Year) and turning string values for time (ex. 1 yr 1 mon) to a numerical values, representing months (i.e. 13). Then, we will look standardize our numerical features. \n",
    "\n",
    "Note: We will not create dummy variables for this model as that can create thousands of more variables for categorial features with many levels."
   ]
  },
  {
   "cell_type": "code",
   "execution_count": 1,
   "metadata": {},
   "outputs": [],
   "source": [
    "# Import necessary packages.\n",
    "\n",
    "import pandas as pd\n",
    "import numpy as np\n",
    "from sklearn.preprocessing import StandardScaler\n",
    "from sklearn.model_selection import GridSearchCV, train_test_split\n",
    "from scipy.sparse import csr_matrix\n",
    "import matplotlib.pyplot as plt\n",
    "from datetime import datetime"
   ]
  },
  {
   "cell_type": "code",
   "execution_count": 2,
   "metadata": {},
   "outputs": [
    {
     "name": "stdout",
     "output_type": "stream",
     "text": [
      "<class 'pandas.core.frame.DataFrame'>\n",
      "RangeIndex: 233154 entries, 0 to 233153\n",
      "Data columns (total 41 columns):\n",
      " #   Column                               Non-Null Count   Dtype  \n",
      "---  ------                               --------------   -----  \n",
      " 0   UniqueID                             233154 non-null  int64  \n",
      " 1   disbursed_amount                     233154 non-null  int64  \n",
      " 2   asset_cost                           233154 non-null  int64  \n",
      " 3   ltv                                  233154 non-null  float64\n",
      " 4   branch_id                            233154 non-null  int64  \n",
      " 5   supplier_id                          233154 non-null  int64  \n",
      " 6   manufacturer_id                      233154 non-null  int64  \n",
      " 7   Current_pincode_ID                   233154 non-null  int64  \n",
      " 8   Date.of.Birth                        233154 non-null  object \n",
      " 9   Employment.Type                      233154 non-null  object \n",
      " 10  DisbursalDate                        233154 non-null  object \n",
      " 11  State_ID                             233154 non-null  int64  \n",
      " 12  Employee_code_ID                     233154 non-null  int64  \n",
      " 13  MobileNo_Avl_Flag                    233154 non-null  int64  \n",
      " 14  Aadhar_flag                          233154 non-null  int64  \n",
      " 15  PAN_flag                             233154 non-null  int64  \n",
      " 16  VoterID_flag                         233154 non-null  int64  \n",
      " 17  Driving_flag                         233154 non-null  int64  \n",
      " 18  Passport_flag                        233154 non-null  int64  \n",
      " 19  PERFORM_CNS.SCORE                    233154 non-null  int64  \n",
      " 20  PERFORM_CNS.SCORE.DESCRIPTION        233154 non-null  object \n",
      " 21  PRI.NO.OF.ACCTS                      233154 non-null  int64  \n",
      " 22  PRI.ACTIVE.ACCTS                     233154 non-null  int64  \n",
      " 23  PRI.OVERDUE.ACCTS                    233154 non-null  int64  \n",
      " 24  PRI.CURRENT.BALANCE                  233154 non-null  int64  \n",
      " 25  PRI.SANCTIONED.AMOUNT                233154 non-null  int64  \n",
      " 26  PRI.DISBURSED.AMOUNT                 233154 non-null  int64  \n",
      " 27  SEC.NO.OF.ACCTS                      233154 non-null  int64  \n",
      " 28  SEC.ACTIVE.ACCTS                     233154 non-null  int64  \n",
      " 29  SEC.OVERDUE.ACCTS                    233154 non-null  int64  \n",
      " 30  SEC.CURRENT.BALANCE                  233154 non-null  int64  \n",
      " 31  SEC.SANCTIONED.AMOUNT                233154 non-null  int64  \n",
      " 32  SEC.DISBURSED.AMOUNT                 233154 non-null  int64  \n",
      " 33  PRIMARY.INSTAL.AMT                   233154 non-null  int64  \n",
      " 34  SEC.INSTAL.AMT                       233154 non-null  int64  \n",
      " 35  NEW.ACCTS.IN.LAST.SIX.MONTHS         233154 non-null  int64  \n",
      " 36  DELINQUENT.ACCTS.IN.LAST.SIX.MONTHS  233154 non-null  int64  \n",
      " 37  AVERAGE.ACCT.AGE                     233154 non-null  object \n",
      " 38  CREDIT.HISTORY.LENGTH                233154 non-null  object \n",
      " 39  NO.OF_INQUIRIES                      233154 non-null  int64  \n",
      " 40  loan_default                         233154 non-null  int64  \n",
      "dtypes: float64(1), int64(34), object(6)\n",
      "memory usage: 72.9+ MB\n"
     ]
    }
   ],
   "source": [
    "# Read in the dataset and see its info()\n",
    "\n",
    "VL_df = pd.read_csv(f'./data/Vehicle_Loan_DataWrang.csv')\n",
    "VL_df.info()"
   ]
  },
  {
   "cell_type": "markdown",
   "metadata": {},
   "source": [
    "There are features whose data type is object. We will first convert 'Date.of.Birth' and 'DisbursalDate' whose values are formatted the same. We will extract the year, month and day for each of these values."
   ]
  },
  {
   "cell_type": "code",
   "execution_count": 3,
   "metadata": {},
   "outputs": [
    {
     "data": {
      "text/html": [
       "<div>\n",
       "<style scoped>\n",
       "    .dataframe tbody tr th:only-of-type {\n",
       "        vertical-align: middle;\n",
       "    }\n",
       "\n",
       "    .dataframe tbody tr th {\n",
       "        vertical-align: top;\n",
       "    }\n",
       "\n",
       "    .dataframe thead th {\n",
       "        text-align: right;\n",
       "    }\n",
       "</style>\n",
       "<table border=\"1\" class=\"dataframe\">\n",
       "  <thead>\n",
       "    <tr style=\"text-align: right;\">\n",
       "      <th></th>\n",
       "      <th>Date.of.Birth</th>\n",
       "      <th>birth_year</th>\n",
       "      <th>birth_month</th>\n",
       "      <th>birth_day</th>\n",
       "      <th>DisbursalDate</th>\n",
       "      <th>Disbursal_year</th>\n",
       "      <th>Disbursal_month</th>\n",
       "      <th>Disbursal_day</th>\n",
       "    </tr>\n",
       "  </thead>\n",
       "  <tbody>\n",
       "    <tr>\n",
       "      <th>0</th>\n",
       "      <td>1984-01-01</td>\n",
       "      <td>1984</td>\n",
       "      <td>1</td>\n",
       "      <td>1</td>\n",
       "      <td>2018-08-03</td>\n",
       "      <td>2018</td>\n",
       "      <td>8</td>\n",
       "      <td>3</td>\n",
       "    </tr>\n",
       "    <tr>\n",
       "      <th>1</th>\n",
       "      <td>1985-07-31</td>\n",
       "      <td>1985</td>\n",
       "      <td>7</td>\n",
       "      <td>31</td>\n",
       "      <td>2018-09-26</td>\n",
       "      <td>2018</td>\n",
       "      <td>9</td>\n",
       "      <td>26</td>\n",
       "    </tr>\n",
       "    <tr>\n",
       "      <th>2</th>\n",
       "      <td>1985-08-24</td>\n",
       "      <td>1985</td>\n",
       "      <td>8</td>\n",
       "      <td>24</td>\n",
       "      <td>2018-08-01</td>\n",
       "      <td>2018</td>\n",
       "      <td>8</td>\n",
       "      <td>1</td>\n",
       "    </tr>\n",
       "    <tr>\n",
       "      <th>3</th>\n",
       "      <td>1993-12-30</td>\n",
       "      <td>1993</td>\n",
       "      <td>12</td>\n",
       "      <td>30</td>\n",
       "      <td>2018-10-26</td>\n",
       "      <td>2018</td>\n",
       "      <td>10</td>\n",
       "      <td>26</td>\n",
       "    </tr>\n",
       "    <tr>\n",
       "      <th>4</th>\n",
       "      <td>1977-12-09</td>\n",
       "      <td>1977</td>\n",
       "      <td>12</td>\n",
       "      <td>9</td>\n",
       "      <td>2018-09-26</td>\n",
       "      <td>2018</td>\n",
       "      <td>9</td>\n",
       "      <td>26</td>\n",
       "    </tr>\n",
       "    <tr>\n",
       "      <th>...</th>\n",
       "      <td>...</td>\n",
       "      <td>...</td>\n",
       "      <td>...</td>\n",
       "      <td>...</td>\n",
       "      <td>...</td>\n",
       "      <td>...</td>\n",
       "      <td>...</td>\n",
       "      <td>...</td>\n",
       "    </tr>\n",
       "    <tr>\n",
       "      <th>233149</th>\n",
       "      <td>1988-08-01</td>\n",
       "      <td>1988</td>\n",
       "      <td>8</td>\n",
       "      <td>1</td>\n",
       "      <td>2018-10-26</td>\n",
       "      <td>2018</td>\n",
       "      <td>10</td>\n",
       "      <td>26</td>\n",
       "    </tr>\n",
       "    <tr>\n",
       "      <th>233150</th>\n",
       "      <td>1988-12-05</td>\n",
       "      <td>1988</td>\n",
       "      <td>12</td>\n",
       "      <td>5</td>\n",
       "      <td>2018-10-23</td>\n",
       "      <td>2018</td>\n",
       "      <td>10</td>\n",
       "      <td>23</td>\n",
       "    </tr>\n",
       "    <tr>\n",
       "      <th>233151</th>\n",
       "      <td>1976-06-01</td>\n",
       "      <td>1976</td>\n",
       "      <td>6</td>\n",
       "      <td>1</td>\n",
       "      <td>2018-10-24</td>\n",
       "      <td>2018</td>\n",
       "      <td>10</td>\n",
       "      <td>24</td>\n",
       "    </tr>\n",
       "    <tr>\n",
       "      <th>233152</th>\n",
       "      <td>1994-03-26</td>\n",
       "      <td>1994</td>\n",
       "      <td>3</td>\n",
       "      <td>26</td>\n",
       "      <td>2018-09-29</td>\n",
       "      <td>2018</td>\n",
       "      <td>9</td>\n",
       "      <td>29</td>\n",
       "    </tr>\n",
       "    <tr>\n",
       "      <th>233153</th>\n",
       "      <td>1984-02-18</td>\n",
       "      <td>1984</td>\n",
       "      <td>2</td>\n",
       "      <td>18</td>\n",
       "      <td>2018-10-27</td>\n",
       "      <td>2018</td>\n",
       "      <td>10</td>\n",
       "      <td>27</td>\n",
       "    </tr>\n",
       "  </tbody>\n",
       "</table>\n",
       "<p>233154 rows × 8 columns</p>\n",
       "</div>"
      ],
      "text/plain": [
       "       Date.of.Birth  birth_year  birth_month  birth_day DisbursalDate  \\\n",
       "0         1984-01-01        1984            1          1    2018-08-03   \n",
       "1         1985-07-31        1985            7         31    2018-09-26   \n",
       "2         1985-08-24        1985            8         24    2018-08-01   \n",
       "3         1993-12-30        1993           12         30    2018-10-26   \n",
       "4         1977-12-09        1977           12          9    2018-09-26   \n",
       "...              ...         ...          ...        ...           ...   \n",
       "233149    1988-08-01        1988            8          1    2018-10-26   \n",
       "233150    1988-12-05        1988           12          5    2018-10-23   \n",
       "233151    1976-06-01        1976            6          1    2018-10-24   \n",
       "233152    1994-03-26        1994            3         26    2018-09-29   \n",
       "233153    1984-02-18        1984            2         18    2018-10-27   \n",
       "\n",
       "        Disbursal_year  Disbursal_month  Disbursal_day  \n",
       "0                 2018                8              3  \n",
       "1                 2018                9             26  \n",
       "2                 2018                8              1  \n",
       "3                 2018               10             26  \n",
       "4                 2018                9             26  \n",
       "...                ...              ...            ...  \n",
       "233149            2018               10             26  \n",
       "233150            2018               10             23  \n",
       "233151            2018               10             24  \n",
       "233152            2018                9             29  \n",
       "233153            2018               10             27  \n",
       "\n",
       "[233154 rows x 8 columns]"
      ]
     },
     "execution_count": 3,
     "metadata": {},
     "output_type": "execute_result"
    }
   ],
   "source": [
    "# Turn these date features into datetime objects.\n",
    "VL_df['Date.of.Birth'] = VL_df['Date.of.Birth'].apply(lambda x: datetime.strptime(x, '%Y-%m-%d'))\n",
    "VL_df['DisbursalDate'] = VL_df['DisbursalDate'].apply(lambda x: datetime.strptime(x, '%Y-%m-%d'))\n",
    "\n",
    "# Create separate year, month and day features for the feature 'Date.of.Birth'\n",
    "VL_df['birth_year'] = VL_df['Date.of.Birth'].dt.year\n",
    "VL_df['birth_month'] = VL_df['Date.of.Birth'].dt.month\n",
    "VL_df['birth_day'] = VL_df['Date.of.Birth'].dt.day\n",
    "\n",
    "# Create separate year, month and day features for the feature 'DisbursalDate'\n",
    "VL_df['Disbursal_year'] = VL_df['DisbursalDate'].dt.year\n",
    "VL_df['Disbursal_month'] = VL_df['DisbursalDate'].dt.month\n",
    "VL_df['Disbursal_day'] = VL_df['DisbursalDate'].dt.day\n",
    "\n",
    "# Take a look at the dateframe to see that the date components were extracted correctly.\n",
    "VL_df[['Date.of.Birth', 'birth_year','birth_month', 'birth_day', \n",
    "       'DisbursalDate', 'Disbursal_year','Disbursal_month', 'Disbursal_day']]"
   ]
  },
  {
   "cell_type": "code",
   "execution_count": 4,
   "metadata": {},
   "outputs": [
    {
     "name": "stdout",
     "output_type": "stream",
     "text": [
      "<class 'pandas.core.frame.DataFrame'>\n",
      "RangeIndex: 233154 entries, 0 to 233153\n",
      "Data columns (total 45 columns):\n",
      " #   Column                               Non-Null Count   Dtype  \n",
      "---  ------                               --------------   -----  \n",
      " 0   UniqueID                             233154 non-null  int64  \n",
      " 1   disbursed_amount                     233154 non-null  int64  \n",
      " 2   asset_cost                           233154 non-null  int64  \n",
      " 3   ltv                                  233154 non-null  float64\n",
      " 4   branch_id                            233154 non-null  int64  \n",
      " 5   supplier_id                          233154 non-null  int64  \n",
      " 6   manufacturer_id                      233154 non-null  int64  \n",
      " 7   Current_pincode_ID                   233154 non-null  int64  \n",
      " 8   Employment.Type                      233154 non-null  object \n",
      " 9   State_ID                             233154 non-null  int64  \n",
      " 10  Employee_code_ID                     233154 non-null  int64  \n",
      " 11  MobileNo_Avl_Flag                    233154 non-null  int64  \n",
      " 12  Aadhar_flag                          233154 non-null  int64  \n",
      " 13  PAN_flag                             233154 non-null  int64  \n",
      " 14  VoterID_flag                         233154 non-null  int64  \n",
      " 15  Driving_flag                         233154 non-null  int64  \n",
      " 16  Passport_flag                        233154 non-null  int64  \n",
      " 17  PERFORM_CNS.SCORE                    233154 non-null  int64  \n",
      " 18  PERFORM_CNS.SCORE.DESCRIPTION        233154 non-null  object \n",
      " 19  PRI.NO.OF.ACCTS                      233154 non-null  int64  \n",
      " 20  PRI.ACTIVE.ACCTS                     233154 non-null  int64  \n",
      " 21  PRI.OVERDUE.ACCTS                    233154 non-null  int64  \n",
      " 22  PRI.CURRENT.BALANCE                  233154 non-null  int64  \n",
      " 23  PRI.SANCTIONED.AMOUNT                233154 non-null  int64  \n",
      " 24  PRI.DISBURSED.AMOUNT                 233154 non-null  int64  \n",
      " 25  SEC.NO.OF.ACCTS                      233154 non-null  int64  \n",
      " 26  SEC.ACTIVE.ACCTS                     233154 non-null  int64  \n",
      " 27  SEC.OVERDUE.ACCTS                    233154 non-null  int64  \n",
      " 28  SEC.CURRENT.BALANCE                  233154 non-null  int64  \n",
      " 29  SEC.SANCTIONED.AMOUNT                233154 non-null  int64  \n",
      " 30  SEC.DISBURSED.AMOUNT                 233154 non-null  int64  \n",
      " 31  PRIMARY.INSTAL.AMT                   233154 non-null  int64  \n",
      " 32  SEC.INSTAL.AMT                       233154 non-null  int64  \n",
      " 33  NEW.ACCTS.IN.LAST.SIX.MONTHS         233154 non-null  int64  \n",
      " 34  DELINQUENT.ACCTS.IN.LAST.SIX.MONTHS  233154 non-null  int64  \n",
      " 35  AVERAGE.ACCT.AGE                     233154 non-null  object \n",
      " 36  CREDIT.HISTORY.LENGTH                233154 non-null  object \n",
      " 37  NO.OF_INQUIRIES                      233154 non-null  int64  \n",
      " 38  loan_default                         233154 non-null  int64  \n",
      " 39  birth_year                           233154 non-null  int64  \n",
      " 40  birth_month                          233154 non-null  int64  \n",
      " 41  birth_day                            233154 non-null  int64  \n",
      " 42  Disbursal_year                       233154 non-null  int64  \n",
      " 43  Disbursal_month                      233154 non-null  int64  \n",
      " 44  Disbursal_day                        233154 non-null  int64  \n",
      "dtypes: float64(1), int64(40), object(4)\n",
      "memory usage: 80.0+ MB\n"
     ]
    }
   ],
   "source": [
    "# features. Those new features will be much more useful for the model.\n",
    "\n",
    "VL_df = VL_df.drop(['Date.of.Birth', 'DisbursalDate'], axis=1)\n",
    "VL_df.info()    # Output to see that those two features are gone and replaced with new ones"
   ]
  },
  {
   "cell_type": "markdown",
   "metadata": {},
   "source": [
    "Now, we convert the 'AVG.ACCT.AGE' and 'CRT.HISTORY.LENGTH' features whose values represent time in the format (i.e. '1yrs 11mon'). We will convert them to numerical values of months."
   ]
  },
  {
   "cell_type": "code",
   "execution_count": 5,
   "metadata": {},
   "outputs": [
    {
     "data": {
      "text/html": [
       "<div>\n",
       "<style scoped>\n",
       "    .dataframe tbody tr th:only-of-type {\n",
       "        vertical-align: middle;\n",
       "    }\n",
       "\n",
       "    .dataframe tbody tr th {\n",
       "        vertical-align: top;\n",
       "    }\n",
       "\n",
       "    .dataframe thead th {\n",
       "        text-align: right;\n",
       "    }\n",
       "</style>\n",
       "<table border=\"1\" class=\"dataframe\">\n",
       "  <thead>\n",
       "    <tr style=\"text-align: right;\">\n",
       "      <th></th>\n",
       "      <th>AVERAGE.ACCT.AGE</th>\n",
       "      <th>AVG.ACCT.AGE</th>\n",
       "      <th>CREDIT.HISTORY.LENGTH</th>\n",
       "      <th>CRT.HISTORY.LENGTH</th>\n",
       "    </tr>\n",
       "  </thead>\n",
       "  <tbody>\n",
       "    <tr>\n",
       "      <th>0</th>\n",
       "      <td>0yrs 0mon</td>\n",
       "      <td>0</td>\n",
       "      <td>0yrs 0mon</td>\n",
       "      <td>0</td>\n",
       "    </tr>\n",
       "    <tr>\n",
       "      <th>1</th>\n",
       "      <td>1yrs 11mon</td>\n",
       "      <td>23</td>\n",
       "      <td>1yrs 11mon</td>\n",
       "      <td>23</td>\n",
       "    </tr>\n",
       "    <tr>\n",
       "      <th>2</th>\n",
       "      <td>0yrs 0mon</td>\n",
       "      <td>0</td>\n",
       "      <td>0yrs 0mon</td>\n",
       "      <td>0</td>\n",
       "    </tr>\n",
       "    <tr>\n",
       "      <th>3</th>\n",
       "      <td>0yrs 8mon</td>\n",
       "      <td>8</td>\n",
       "      <td>1yrs 3mon</td>\n",
       "      <td>15</td>\n",
       "    </tr>\n",
       "    <tr>\n",
       "      <th>4</th>\n",
       "      <td>0yrs 0mon</td>\n",
       "      <td>0</td>\n",
       "      <td>0yrs 0mon</td>\n",
       "      <td>0</td>\n",
       "    </tr>\n",
       "    <tr>\n",
       "      <th>...</th>\n",
       "      <td>...</td>\n",
       "      <td>...</td>\n",
       "      <td>...</td>\n",
       "      <td>...</td>\n",
       "    </tr>\n",
       "    <tr>\n",
       "      <th>233149</th>\n",
       "      <td>1yrs 9mon</td>\n",
       "      <td>21</td>\n",
       "      <td>3yrs 3mon</td>\n",
       "      <td>39</td>\n",
       "    </tr>\n",
       "    <tr>\n",
       "      <th>233150</th>\n",
       "      <td>0yrs 6mon</td>\n",
       "      <td>6</td>\n",
       "      <td>0yrs 6mon</td>\n",
       "      <td>6</td>\n",
       "    </tr>\n",
       "    <tr>\n",
       "      <th>233151</th>\n",
       "      <td>0yrs 0mon</td>\n",
       "      <td>0</td>\n",
       "      <td>0yrs 0mon</td>\n",
       "      <td>0</td>\n",
       "    </tr>\n",
       "    <tr>\n",
       "      <th>233152</th>\n",
       "      <td>0yrs 0mon</td>\n",
       "      <td>0</td>\n",
       "      <td>0yrs 0mon</td>\n",
       "      <td>0</td>\n",
       "    </tr>\n",
       "    <tr>\n",
       "      <th>233153</th>\n",
       "      <td>0yrs 0mon</td>\n",
       "      <td>0</td>\n",
       "      <td>0yrs 0mon</td>\n",
       "      <td>0</td>\n",
       "    </tr>\n",
       "  </tbody>\n",
       "</table>\n",
       "<p>233154 rows × 4 columns</p>\n",
       "</div>"
      ],
      "text/plain": [
       "       AVERAGE.ACCT.AGE  AVG.ACCT.AGE CREDIT.HISTORY.LENGTH  \\\n",
       "0             0yrs 0mon             0             0yrs 0mon   \n",
       "1            1yrs 11mon            23            1yrs 11mon   \n",
       "2             0yrs 0mon             0             0yrs 0mon   \n",
       "3             0yrs 8mon             8             1yrs 3mon   \n",
       "4             0yrs 0mon             0             0yrs 0mon   \n",
       "...                 ...           ...                   ...   \n",
       "233149        1yrs 9mon            21             3yrs 3mon   \n",
       "233150        0yrs 6mon             6             0yrs 6mon   \n",
       "233151        0yrs 0mon             0             0yrs 0mon   \n",
       "233152        0yrs 0mon             0             0yrs 0mon   \n",
       "233153        0yrs 0mon             0             0yrs 0mon   \n",
       "\n",
       "        CRT.HISTORY.LENGTH  \n",
       "0                        0  \n",
       "1                       23  \n",
       "2                        0  \n",
       "3                       15  \n",
       "4                        0  \n",
       "...                    ...  \n",
       "233149                  39  \n",
       "233150                   6  \n",
       "233151                   0  \n",
       "233152                   0  \n",
       "233153                   0  \n",
       "\n",
       "[233154 rows x 4 columns]"
      ]
     },
     "execution_count": 5,
     "metadata": {},
     "output_type": "execute_result"
    }
   ],
   "source": [
    "# The first two lines remove the 'yrs' and 'mon' portion of the strings and save them \n",
    "# in a new dataframe column VL_df['AVG.ACCT.AGE']. The last line will turn it into the age\n",
    "# in numerical months.\n",
    "VL_df['AVG.ACCT.AGE'] = VL_df['AVERAGE.ACCT.AGE'].apply(lambda x: x.replace('mon',''))\n",
    "VL_df['AVG.ACCT.AGE'] = VL_df['AVG.ACCT.AGE'].apply(lambda x: x.replace('yrs',''))\n",
    "VL_df['AVG.ACCT.AGE'] = VL_df['AVG.ACCT.AGE'].apply(lambda x: 12*int(x[:x.find(' ')+1]) + int(x[x.find(' '):]))\n",
    "\n",
    "# Similar as above but for credit history length.\n",
    "VL_df['CRT.HISTORY.LENGTH'] = VL_df['CREDIT.HISTORY.LENGTH'].apply(lambda x: x.replace('mon',''))\n",
    "VL_df['CRT.HISTORY.LENGTH'] = VL_df['CRT.HISTORY.LENGTH'].apply(lambda x: x.replace('yrs',''))\n",
    "VL_df['CRT.HISTORY.LENGTH'] = VL_df['CRT.HISTORY.LENGTH'].apply(lambda x: 12*int(x[:x.find(' ')+1]) + int(x[x.find(' '):]))\n",
    "\n",
    "# Verify that the new feature values were computed correctly.\n",
    "VL_df[['AVERAGE.ACCT.AGE', 'AVG.ACCT.AGE','CREDIT.HISTORY.LENGTH','CRT.HISTORY.LENGTH']]"
   ]
  },
  {
   "cell_type": "code",
   "execution_count": 6,
   "metadata": {},
   "outputs": [
    {
     "name": "stdout",
     "output_type": "stream",
     "text": [
      "<class 'pandas.core.frame.DataFrame'>\n",
      "RangeIndex: 233154 entries, 0 to 233153\n",
      "Data columns (total 45 columns):\n",
      " #   Column                               Non-Null Count   Dtype  \n",
      "---  ------                               --------------   -----  \n",
      " 0   UniqueID                             233154 non-null  int64  \n",
      " 1   disbursed_amount                     233154 non-null  int64  \n",
      " 2   asset_cost                           233154 non-null  int64  \n",
      " 3   ltv                                  233154 non-null  float64\n",
      " 4   branch_id                            233154 non-null  int64  \n",
      " 5   supplier_id                          233154 non-null  int64  \n",
      " 6   manufacturer_id                      233154 non-null  int64  \n",
      " 7   Current_pincode_ID                   233154 non-null  int64  \n",
      " 8   Employment.Type                      233154 non-null  object \n",
      " 9   State_ID                             233154 non-null  int64  \n",
      " 10  Employee_code_ID                     233154 non-null  int64  \n",
      " 11  MobileNo_Avl_Flag                    233154 non-null  int64  \n",
      " 12  Aadhar_flag                          233154 non-null  int64  \n",
      " 13  PAN_flag                             233154 non-null  int64  \n",
      " 14  VoterID_flag                         233154 non-null  int64  \n",
      " 15  Driving_flag                         233154 non-null  int64  \n",
      " 16  Passport_flag                        233154 non-null  int64  \n",
      " 17  PERFORM_CNS.SCORE                    233154 non-null  int64  \n",
      " 18  PERFORM_CNS.SCORE.DESCRIPTION        233154 non-null  object \n",
      " 19  PRI.NO.OF.ACCTS                      233154 non-null  int64  \n",
      " 20  PRI.ACTIVE.ACCTS                     233154 non-null  int64  \n",
      " 21  PRI.OVERDUE.ACCTS                    233154 non-null  int64  \n",
      " 22  PRI.CURRENT.BALANCE                  233154 non-null  int64  \n",
      " 23  PRI.SANCTIONED.AMOUNT                233154 non-null  int64  \n",
      " 24  PRI.DISBURSED.AMOUNT                 233154 non-null  int64  \n",
      " 25  SEC.NO.OF.ACCTS                      233154 non-null  int64  \n",
      " 26  SEC.ACTIVE.ACCTS                     233154 non-null  int64  \n",
      " 27  SEC.OVERDUE.ACCTS                    233154 non-null  int64  \n",
      " 28  SEC.CURRENT.BALANCE                  233154 non-null  int64  \n",
      " 29  SEC.SANCTIONED.AMOUNT                233154 non-null  int64  \n",
      " 30  SEC.DISBURSED.AMOUNT                 233154 non-null  int64  \n",
      " 31  PRIMARY.INSTAL.AMT                   233154 non-null  int64  \n",
      " 32  SEC.INSTAL.AMT                       233154 non-null  int64  \n",
      " 33  NEW.ACCTS.IN.LAST.SIX.MONTHS         233154 non-null  int64  \n",
      " 34  DELINQUENT.ACCTS.IN.LAST.SIX.MONTHS  233154 non-null  int64  \n",
      " 35  NO.OF_INQUIRIES                      233154 non-null  int64  \n",
      " 36  loan_default                         233154 non-null  int64  \n",
      " 37  birth_year                           233154 non-null  int64  \n",
      " 38  birth_month                          233154 non-null  int64  \n",
      " 39  birth_day                            233154 non-null  int64  \n",
      " 40  Disbursal_year                       233154 non-null  int64  \n",
      " 41  Disbursal_month                      233154 non-null  int64  \n",
      " 42  Disbursal_day                        233154 non-null  int64  \n",
      " 43  AVG.ACCT.AGE                         233154 non-null  int64  \n",
      " 44  CRT.HISTORY.LENGTH                   233154 non-null  int64  \n",
      "dtypes: float64(1), int64(42), object(2)\n",
      "memory usage: 80.0+ MB\n"
     ]
    }
   ],
   "source": [
    "# Drop the original columns.\n",
    "VL_df = VL_df.drop(['AVERAGE.ACCT.AGE', 'CREDIT.HISTORY.LENGTH'], axis=1)\n",
    "VL_df.info()"
   ]
  },
  {
   "cell_type": "code",
   "execution_count": 7,
   "metadata": {},
   "outputs": [],
   "source": [
    "## We update our categorial columns list from the Exploratory Analysis section with \n",
    "## our new features.\n",
    "categorical_cols = ['UniqueID', 'branch_id', 'supplier_id', 'manufacturer_id', \n",
    "                   'Current_pincode_ID', 'Employment.Type',\n",
    "                   'State_ID', 'Employee_code_ID', \n",
    "                   'MobileNo_Avl_Flag', 'Aadhar_flag', 'PAN_flag', 'VoterID_flag', \n",
    "                   'Driving_flag', 'Passport_flag',\n",
    "                   'birth_year','birth_month','birth_day', 'Disbursal_year',\n",
    "                   'Disbursal_month','Disbursal_day','AVG.ACCT.AGE', 'CRT.HISTORY.LENGTH']"
   ]
  },
  {
   "cell_type": "code",
   "execution_count": 8,
   "metadata": {},
   "outputs": [
    {
     "name": "stdout",
     "output_type": "stream",
     "text": [
      "<class 'pandas.core.frame.DataFrame'>\n",
      "RangeIndex: 233154 entries, 0 to 233153\n",
      "Data columns (total 22 columns):\n",
      " #   Column              Non-Null Count   Dtype \n",
      "---  ------              --------------   ----- \n",
      " 0   UniqueID            233154 non-null  int64 \n",
      " 1   branch_id           233154 non-null  int64 \n",
      " 2   supplier_id         233154 non-null  int64 \n",
      " 3   manufacturer_id     233154 non-null  int64 \n",
      " 4   Current_pincode_ID  233154 non-null  int64 \n",
      " 5   Employment.Type     233154 non-null  object\n",
      " 6   State_ID            233154 non-null  int64 \n",
      " 7   Employee_code_ID    233154 non-null  int64 \n",
      " 8   MobileNo_Avl_Flag   233154 non-null  int64 \n",
      " 9   Aadhar_flag         233154 non-null  int64 \n",
      " 10  PAN_flag            233154 non-null  int64 \n",
      " 11  VoterID_flag        233154 non-null  int64 \n",
      " 12  Driving_flag        233154 non-null  int64 \n",
      " 13  Passport_flag       233154 non-null  int64 \n",
      " 14  birth_year          233154 non-null  int64 \n",
      " 15  birth_month         233154 non-null  int64 \n",
      " 16  birth_day           233154 non-null  int64 \n",
      " 17  Disbursal_year      233154 non-null  int64 \n",
      " 18  Disbursal_month     233154 non-null  int64 \n",
      " 19  Disbursal_day       233154 non-null  int64 \n",
      " 20  AVG.ACCT.AGE        233154 non-null  int64 \n",
      " 21  CRT.HISTORY.LENGTH  233154 non-null  int64 \n",
      "dtypes: int64(21), object(1)\n",
      "memory usage: 39.1+ MB\n"
     ]
    }
   ],
   "source": [
    "# Check the features out to see all numerical\n",
    "VL_df[categorical_cols].info()"
   ]
  },
  {
   "cell_type": "code",
   "execution_count": 9,
   "metadata": {},
   "outputs": [],
   "source": [
    "# Create numerical values for Employee.Type\n",
    "replace_map = {'Employment.Type': {'Other': 1, 'Salaried': 2,'Self employed': 3}}\n",
    "VL_df = VL_df.replace(replace_map)"
   ]
  },
  {
   "cell_type": "code",
   "execution_count": 10,
   "metadata": {},
   "outputs": [
    {
     "data": {
      "text/plain": [
       "0    129785\n",
       "1     50728\n",
       "2     18294\n",
       "3     12412\n",
       "4     12025\n",
       "5      9910\n",
       "Name: PERFORM_CNS.SCORE.DESCRIPTION, dtype: int64"
      ]
     },
     "execution_count": 10,
     "metadata": {},
     "output_type": "execute_result"
    }
   ],
   "source": [
    "replace_map = {'PERFORM_CNS.SCORE.DESCRIPTION':{'Not Scored: More than 50 active Accounts found' : 0, \n",
    "                                               'Not Scored: Only a Guarantor':0,\n",
    "                                               'Not Scored: No Updates available in last 36 months':0,\n",
    "                                               'Not Scored: No Activity seen on the customer (Inactive)':0,\n",
    "                                               'Not Scored: Not Enough Info available on the customer':0,\n",
    "                                               'Not Scored: Sufficient History Not Available':0,\n",
    "                                               'No Bureau History Available':0, 'C-Very Low Risk':1,\n",
    "                                               'A-Very Low Risk':1, 'D-Very Low Risk':1, 'B-Very Low Risk':1,\n",
    "                                               'M-Very High Risk':1, 'F-Low Risk':2, 'E-Low Risk':2, \n",
    "                                               'G-Low Risk':2, 'H-Medium Risk':3, 'I-Medium Risk':3,\n",
    "                                               'K-High Risk':4, 'J-High Risk':4, 'M-Very High Risk':5,\n",
    "                                               'L-Very High Risk':5}}\n",
    "\n",
    "VL_df = VL_df.replace(replace_map)\n",
    "VL_df['PERFORM_CNS.SCORE.DESCRIPTION'].value_counts()"
   ]
  },
  {
   "cell_type": "code",
   "execution_count": 11,
   "metadata": {},
   "outputs": [
    {
     "name": "stdout",
     "output_type": "stream",
     "text": [
      "<class 'pandas.core.frame.DataFrame'>\n",
      "RangeIndex: 233154 entries, 0 to 233153\n",
      "Data columns (total 45 columns):\n",
      " #   Column                               Non-Null Count   Dtype  \n",
      "---  ------                               --------------   -----  \n",
      " 0   UniqueID                             233154 non-null  int64  \n",
      " 1   disbursed_amount                     233154 non-null  int64  \n",
      " 2   asset_cost                           233154 non-null  int64  \n",
      " 3   ltv                                  233154 non-null  float64\n",
      " 4   branch_id                            233154 non-null  int64  \n",
      " 5   supplier_id                          233154 non-null  int64  \n",
      " 6   manufacturer_id                      233154 non-null  int64  \n",
      " 7   Current_pincode_ID                   233154 non-null  int64  \n",
      " 8   Employment.Type                      233154 non-null  int64  \n",
      " 9   State_ID                             233154 non-null  int64  \n",
      " 10  Employee_code_ID                     233154 non-null  int64  \n",
      " 11  MobileNo_Avl_Flag                    233154 non-null  int64  \n",
      " 12  Aadhar_flag                          233154 non-null  int64  \n",
      " 13  PAN_flag                             233154 non-null  int64  \n",
      " 14  VoterID_flag                         233154 non-null  int64  \n",
      " 15  Driving_flag                         233154 non-null  int64  \n",
      " 16  Passport_flag                        233154 non-null  int64  \n",
      " 17  PERFORM_CNS.SCORE                    233154 non-null  int64  \n",
      " 18  PERFORM_CNS.SCORE.DESCRIPTION        233154 non-null  int64  \n",
      " 19  PRI.NO.OF.ACCTS                      233154 non-null  int64  \n",
      " 20  PRI.ACTIVE.ACCTS                     233154 non-null  int64  \n",
      " 21  PRI.OVERDUE.ACCTS                    233154 non-null  int64  \n",
      " 22  PRI.CURRENT.BALANCE                  233154 non-null  int64  \n",
      " 23  PRI.SANCTIONED.AMOUNT                233154 non-null  int64  \n",
      " 24  PRI.DISBURSED.AMOUNT                 233154 non-null  int64  \n",
      " 25  SEC.NO.OF.ACCTS                      233154 non-null  int64  \n",
      " 26  SEC.ACTIVE.ACCTS                     233154 non-null  int64  \n",
      " 27  SEC.OVERDUE.ACCTS                    233154 non-null  int64  \n",
      " 28  SEC.CURRENT.BALANCE                  233154 non-null  int64  \n",
      " 29  SEC.SANCTIONED.AMOUNT                233154 non-null  int64  \n",
      " 30  SEC.DISBURSED.AMOUNT                 233154 non-null  int64  \n",
      " 31  PRIMARY.INSTAL.AMT                   233154 non-null  int64  \n",
      " 32  SEC.INSTAL.AMT                       233154 non-null  int64  \n",
      " 33  NEW.ACCTS.IN.LAST.SIX.MONTHS         233154 non-null  int64  \n",
      " 34  DELINQUENT.ACCTS.IN.LAST.SIX.MONTHS  233154 non-null  int64  \n",
      " 35  NO.OF_INQUIRIES                      233154 non-null  int64  \n",
      " 36  loan_default                         233154 non-null  int64  \n",
      " 37  birth_year                           233154 non-null  int64  \n",
      " 38  birth_month                          233154 non-null  int64  \n",
      " 39  birth_day                            233154 non-null  int64  \n",
      " 40  Disbursal_year                       233154 non-null  int64  \n",
      " 41  Disbursal_month                      233154 non-null  int64  \n",
      " 42  Disbursal_day                        233154 non-null  int64  \n",
      " 43  AVG.ACCT.AGE                         233154 non-null  int64  \n",
      " 44  CRT.HISTORY.LENGTH                   233154 non-null  int64  \n",
      "dtypes: float64(1), int64(44)\n",
      "memory usage: 80.0 MB\n"
     ]
    }
   ],
   "source": [
    "VL_df.info()"
   ]
  },
  {
   "cell_type": "markdown",
   "metadata": {},
   "source": [
    "## Standardization"
   ]
  },
  {
   "cell_type": "code",
   "execution_count": 12,
   "metadata": {},
   "outputs": [],
   "source": [
    "# Splitting the training and testing data\n",
    "\n",
    "# Separate into features and predictor, X and y. 'UniqueID', 'Current_pincode_ID', 'supplier_id'\n",
    "# were all not useful features based on their description so leave out of model.\n",
    "X = VL_df.drop(['loan_default', 'UniqueID', 'Current_pincode_ID', 'supplier_id'], axis=1)\n",
    "y = VL_df['loan_default']   # this is our predictor variable\n",
    "\n",
    "# Since there is an imbalance in the two classes (0 and 1) we will use SMOTE to resample\n",
    "from imblearn.over_sampling import SMOTE\n",
    "X_smote, y_smote = SMOTE().fit_sample(X, y.values.ravel())\n",
    "\n",
    "X_train, X_test, y_train, y_test = train_test_split(X_smote,y_smote,test_size=0.2,random_state=26)"
   ]
  },
  {
   "cell_type": "code",
   "execution_count": 14,
   "metadata": {},
   "outputs": [],
   "source": [
    "# Data standardization: X_train_stand, X_test_stand\n",
    "X_train_stand = X_train.copy() \n",
    "X_test_stand = X_test.copy()\n",
    "\n",
    "for i in X_train.columns:\n",
    "    \n",
    "    # fit on training data column\n",
    "    scale = StandardScaler().fit(X_train_stand[[i]])\n",
    "    \n",
    "    # transform the training data column\n",
    "    X_train_stand[i] = scale.transform(X_train_stand[[i]])\n",
    "    \n",
    "    # transform testing data column\n",
    "    X_test_stand[i] = scale.transform(X_test_stand[[i]])"
   ]
  },
  {
   "cell_type": "code",
   "execution_count": 17,
   "metadata": {},
   "outputs": [],
   "source": [
    "# Create a list of all numerical features: num_cols\n",
    "\n",
    "num_cols = ['ltv','disbursed_amount', 'asset_cost', 'PERFORM_CNS.SCORE', \n",
    "                'PRI.NO.OF.ACCTS', 'PRI.ACTIVE.ACCTS', 'PRI.OVERDUE.ACCTS', \n",
    "                'PRI.CURRENT.BALANCE', 'PRI.SANCTIONED.AMOUNT', 'PRI.DISBURSED.AMOUNT', \n",
    "                'SEC.NO.OF.ACCTS', 'SEC.ACTIVE.ACCTS', 'SEC.OVERDUE.ACCTS', \n",
    "                'SEC.CURRENT.BALANCE', 'SEC.SANCTIONED.AMOUNT', 'SEC.DISBURSED.AMOUNT', \n",
    "                'PRIMARY.INSTAL.AMT', 'SEC.INSTAL.AMT', 'NEW.ACCTS.IN.LAST.SIX.MONTHS',\n",
    "                'DELINQUENT.ACCTS.IN.LAST.SIX.MONTHS', 'NO.OF_INQUIRIES']"
   ]
  },
  {
   "cell_type": "code",
   "execution_count": 18,
   "metadata": {},
   "outputs": [
    {
     "name": "stderr",
     "output_type": "stream",
     "text": [
      "/Users/student/opt/anaconda3/lib/python3.7/site-packages/ipykernel_launcher.py:4: RuntimeWarning: invalid value encountered in log\n",
      "  after removing the cwd from sys.path.\n"
     ]
    },
    {
     "data": {
      "text/plain": [
       "Text(0.5, 1.0, 'Log Transform Boxplots After Standardization')"
      ]
     },
     "execution_count": 18,
     "metadata": {},
     "output_type": "execute_result"
    },
    {
     "data": {
      "image/png": "[encoded data removed]",
      "text/plain": [
       "<Figure size 1800x576 with 1 Axes>"
      ]
     },
     "metadata": {
      "needs_background": "light"
     },
     "output_type": "display_data"
    }
   ],
   "source": [
    "# Plot boxplots for new standardized numerical features. Part 1\n",
    "\n",
    "plt.figure(figsize = (25,8))\n",
    "ax = np.log(X_train_stand[num_cols[0:10]]).boxplot()\n",
    "ax.set_xticklabels(ax.get_xticklabels(),rotation=60)\n",
    "ax.set_title('Log Transform Boxplots After Standardization')"
   ]
  },
  {
   "cell_type": "code",
   "execution_count": 19,
   "metadata": {},
   "outputs": [
    {
     "name": "stderr",
     "output_type": "stream",
     "text": [
      "/Users/student/opt/anaconda3/lib/python3.7/site-packages/ipykernel_launcher.py:4: RuntimeWarning: invalid value encountered in log\n",
      "  after removing the cwd from sys.path.\n"
     ]
    },
    {
     "data": {
      "text/plain": [
       "Text(0.5, 1.0, 'Log Transform Boxplots After Standardization')"
      ]
     },
     "execution_count": 19,
     "metadata": {},
     "output_type": "execute_result"
    },
    {
     "data": {
      "image/png": "[encoded data removed]",
      "text/plain": [
       "<Figure size 1800x576 with 1 Axes>"
      ]
     },
     "metadata": {
      "needs_background": "light"
     },
     "output_type": "display_data"
    }
   ],
   "source": [
    "# Plot boxplots for new standardized numerical features. Part 2\n",
    "\n",
    "plt.figure(figsize = (25,8))\n",
    "ax = np.log(X_train_stand[num_cols[11:22]]).boxplot()\n",
    "ax.set_xticklabels(ax.get_xticklabels(),rotation=60)\n",
    "ax.set_title('Log Transform Boxplots After Standardization')"
   ]
  },
  {
   "cell_type": "markdown",
   "metadata": {},
   "source": [
    "## Section 2: Modeling"
   ]
  },
  {
   "cell_type": "markdown",
   "metadata": {},
   "source": [
    "Now that we have preprocessed our data, we go on to modeling. Due to our large dataset, I decided to different decision tree models for our modeling, which were quicker in computation time than other classification models like nearest neighbor and logistic regression. \n",
    "\n",
    "We will perform grid search cross validation for all three models and try to obtain the highest f1-score without overfitting. My goal is to achieve at least a 0.75 f1-score and achieve above 70% recall score for our default value of 1. We also want to limit the number of n_estimators due to the long computation time required."
   ]
  },
  {
   "cell_type": "code",
   "execution_count": 181,
   "metadata": {},
   "outputs": [],
   "source": [
    "# # Import modeling packages\n",
    "\n",
    "# from sklearn.metrics import accuracy_score\n",
    "# from sklearn.metrics import f1_score\n",
    "# from sklearn.metrics import classification_report,confusion_matrix\n",
    "# import sklearn.metrics"
   ]
  },
  {
   "cell_type": "markdown",
   "metadata": {},
   "source": [
    "## Model 1: Decision Tree, Gini vs Entropy"
   ]
  },
  {
   "cell_type": "markdown",
   "metadata": {},
   "source": [
    "We will first use a decision tree to predict our feature, 'loan_default' value of 0 or 1. We will compare the 'gini' and 'entropy' models and model various max_depth parameters."
   ]
  },
  {
   "cell_type": "code",
   "execution_count": 182,
   "metadata": {},
   "outputs": [],
   "source": [
    "# from sklearn import tree, metrics\n",
    "\n",
    "# # Build intitial decision tree model. We will use Grid Search CV after.\n",
    "# decision_tree = tree.DecisionTreeClassifier(random_state=1234)\n",
    "# param_dict = {\n",
    "#     'criterion':['gini', 'entropy'],\n",
    "#     'max_depth':range(5,26)\n",
    "# }\n",
    "\n",
    "# # Perform GridSearchCV\n",
    "# grid_0 = GridSearchCV(decision_tree, param_grid=param_dict, cv=5,verbose=1,n_jobs=-1)\n",
    "# grid_0.fit(X_train_stand, y_train)"
   ]
  },
  {
   "cell_type": "code",
   "execution_count": 183,
   "metadata": {},
   "outputs": [],
   "source": [
    "# # Plot the line plots of cv scores for various max_depths \n",
    "\n",
    "# max_depth_list = [n for n in range(5,26)]\n",
    "# cv_avg_gini = grid_0.cv_results_['mean_test_score'][0:21]\n",
    "# cv_avg_ent = grid_0.cv_results_['mean_test_score'][21:42]\n",
    "# plt.figure(figsize = (8,5))\n",
    "# plt.plot(max_depth_list, cv_avg_gini, color = 'b', label= 'gini')\n",
    "# plt.plot(max_depth_list, cv_avg_ent, color = 'g', label='entropy')\n",
    "# plt.xlabel('max_depth')\n",
    "# plt.ylabel('Mean CV Score')\n",
    "# plt.title('Gini vs. Entropy Decision Tree')\n",
    "# plt.legend(loc=0, borderaxespad=0.)\n",
    "# plt.savefig('Model1_Mean_CV.png')\n",
    "# plt.legend()\n",
    "# plt.show()"
   ]
  },
  {
   "cell_type": "code",
   "execution_count": 184,
   "metadata": {},
   "outputs": [],
   "source": [
    "# # Print out the best parameters and mean_cv score from the grid search.\n",
    "\n",
    "# print('The best parameters are ',grid_0.best_params_)\n",
    "# print('The respective estimator is ', grid_0.best_estimator_)\n",
    "# print('The corresponding best score is ', grid_0.best_score_)"
   ]
  },
  {
   "cell_type": "markdown",
   "metadata": {},
   "source": [
    "We see that the best params are the criterion of gini and max_depth of 16. We want to verfiy that this is not overplotting. Let's plot the training vs test CV scores for various max_depths for our Decision Tree Classifier. "
   ]
  },
  {
   "cell_type": "code",
   "execution_count": 185,
   "metadata": {},
   "outputs": [],
   "source": [
    "# # Initialize train_scores and test_scores list where we will append the scores\n",
    "# train_scores = []\n",
    "# test_scores = []\n",
    "\n",
    "# # Build a decision tree model for various max_depths and obtain train and test scores\n",
    "# for max_depth in range(5,26):  \n",
    "#     dt = tree.DecisionTreeClassifier(random_state=1234, max_depth = max_depth)\n",
    "#     dt.fit(X_train_stand, y_train)\n",
    "#     train_scores.append(dt.score(X_train_stand, y_train))\n",
    "#     test_scores.append(dt.score(X_test_stand, y_test))"
   ]
  },
  {
   "cell_type": "code",
   "execution_count": 186,
   "metadata": {},
   "outputs": [],
   "source": [
    "# # Display line plots for the training and testing scores for max_depths\n",
    "# plt.figure(figsize = (8,5))\n",
    "# plt.plot(range(5,26), train_scores, color = 'b', label= 'training score')\n",
    "# plt.plot(range(5,26), test_scores, color = 'r', label='testing scores')\n",
    "# plt.xlabel('max_depth')\n",
    "# plt.ylabel('Mean Accuracy Score')\n",
    "# plt.title('Decision Tree Classifier: Training vs Test')\n",
    "# plt.legend(loc=0, borderaxespad=0.)\n",
    "# plt.savefig('Model1_TrainVsTest.png')"
   ]
  },
  {
   "cell_type": "markdown",
   "metadata": {},
   "source": [
    "Since 16 is overplotting, we will go with the value 10. The overplotting is very small with max_depth of 10 and we obtain a test score close to 0.75. "
   ]
  },
  {
   "cell_type": "code",
   "execution_count": 187,
   "metadata": {},
   "outputs": [],
   "source": [
    "# # Build model with best parameter values criterion='entropy' and max_depth=10\n",
    "# model_1 = tree.DecisionTreeClassifier(random_state=1234, max_depth = 10)\n",
    "# model_1.fit(X_train_stand, y_train)\n",
    "# y_pred = model_1.predict(X_test_stand)\n",
    "\n",
    "# # Obtain the accuracy score, f1 score and confusion matrix: ac, f1, cm\n",
    "# ac = accuracy_score(y_test, y_pred)\n",
    "# f1 = f1_score(y_test, y_pred, average='weighted')\n",
    "# cm = confusion_matrix(y_test, y_pred)\n",
    "\n",
    "# # print results\n",
    "# print('Decision Tree: Accuracy=%.3f' % (ac))\n",
    "# print('Decision Tree: f1-score=%.3f' % (f1))\n",
    "# print(sklearn.metrics.classification_report(y_test, y_pred))"
   ]
  },
  {
   "cell_type": "markdown",
   "metadata": {},
   "source": [
    "While the accuaracy is alright, we want to see if we can do better. Let's use ensemble methods random forest and gradient boosting. But first, let's also see which features are most important in our model. "
   ]
  },
  {
   "cell_type": "code",
   "execution_count": 188,
   "metadata": {
    "scrolled": true
   },
   "outputs": [],
   "source": [
    "# feature_importance = model_1.feature_importances_\n",
    "# # make importances relative to max importance\n",
    "# feature_importance = 100.0 * (feature_importance / feature_importance.max())[:30]\n",
    "# sorted_idx = np.argsort(feature_importance)[:30]\n",
    "\n",
    "# pos = np.arange(sorted_idx.shape[0]) + .5\n",
    "# print(pos.size)\n",
    "# sorted_idx.size\n",
    "# plt.figure(figsize=(10,10))\n",
    "# plt.barh(pos, feature_importance[sorted_idx], align='center')\n",
    "# plt.yticks(pos, X.columns[sorted_idx])\n",
    "# plt.xlabel('Relative Importance')\n",
    "# plt.title('Variable Importance with Decision Tree')\n",
    "# plt.show()"
   ]
  },
  {
   "cell_type": "markdown",
   "metadata": {},
   "source": [
    "## Model 2: Random Forest"
   ]
  },
  {
   "cell_type": "code",
   "execution_count": 189,
   "metadata": {},
   "outputs": [],
   "source": [
    "# # Gridsearch CV for Random Forest Classifier Ensemble model\n",
    "\n",
    "# from sklearn.ensemble import RandomForestClassifier\n",
    "\n",
    "# param_grid = {\n",
    "#     'bootstrap':[True],\n",
    "#     'max_depth':[5,10,15,20],  \n",
    "#     'n_estimators':[35,50,100,150]  \n",
    "# }\n",
    "\n",
    "# rf = RandomForestClassifier(random_state=1234)\n",
    "\n",
    "# grid_1 = GridSearchCV(estimator = rf, param_grid = param_grid, cv = 5, n_jobs=-1,verbose=2)\n",
    "# grid_1.fit(X_train_stand, y_train)"
   ]
  },
  {
   "cell_type": "code",
   "execution_count": 190,
   "metadata": {},
   "outputs": [],
   "source": [
    "# # Plot the line plots of cv scores for various max_depths. PLOT next to mean_train_score\n",
    "\n",
    "# n_est_list = [n for n in [35,50,100,150]]\n",
    "# cv_avg_MD5 = grid_1.cv_results_['mean_test_score'][0:4]\n",
    "# cv_avg_MD10 = grid_1.cv_results_['mean_test_score'][4:8]\n",
    "# cv_avg_MD15 = grid_1.cv_results_['mean_test_score'][8:12]\n",
    "# cv_avg_MD20 = grid_1.cv_results_['mean_test_score'][12:16]\n",
    "\n",
    "# plt.figure(figsize = (8,5))\n",
    "# plt.plot(n_est_list, cv_avg_MD5, color = 'b', label= 'max_depth 5')\n",
    "# plt.plot(n_est_list, cv_avg_MD10, color = 'g', label='max_depth 10')\n",
    "# plt.plot(n_est_list, cv_avg_MD15, color = 'r', label= 'max_depth 15')\n",
    "# plt.plot(n_est_list, cv_avg_MD20, color = 'y', label='max_depth 20')\n",
    "\n",
    "# plt.xlabel('n_estimators')\n",
    "# plt.ylabel('Mean CV Score')\n",
    "# plt.title('Random Forest for Different max_depth parameters')\n",
    "# plt.legend(loc=0, borderaxespad=0.)\n",
    "# plt.savefig('Model2_Mean_CV.png')\n",
    "# plt.show()"
   ]
  },
  {
   "cell_type": "code",
   "execution_count": 191,
   "metadata": {},
   "outputs": [],
   "source": [
    "# print('The respective estimator is ', grid_1.best_estimator_)\n",
    "# print('The best score is ', grid_1.best_score_)"
   ]
  },
  {
   "cell_type": "markdown",
   "metadata": {},
   "source": [
    "Based on our max_depth list, our cv score gets better with higher max_depth values. We want to make sure we don't overfit so we will plot the training and testing scores for random forest models of various max_depths."
   ]
  },
  {
   "cell_type": "code",
   "execution_count": 192,
   "metadata": {},
   "outputs": [],
   "source": [
    "# # Initialize train_scores and test_scores list where we will append the scores\n",
    "# train_scores = []\n",
    "# test_scores = []\n",
    "\n",
    "# # Build a random forest model for various max_depths \n",
    "# for max_depth in [5,10,15,20,30,50,100]:  \n",
    "#     rf = RandomForestClassifier(random_state=1234, max_depth = max_depth)\n",
    "#     rf.fit(X_train_stand, y_train)\n",
    "#     train_scores.append(rf.score(X_train_stand, y_train))\n",
    "#     test_scores.append(rf.score(X_test_stand, y_test))"
   ]
  },
  {
   "cell_type": "code",
   "execution_count": 193,
   "metadata": {},
   "outputs": [],
   "source": [
    "# # Display line plots for the training and testing scores for max_depths\n",
    "# plt.figure(figsize = (8,5))\n",
    "# plt.plot([5,10,15,20,30,50,100], train_scores, color = 'b', label= 'training score')\n",
    "# plt.plot([5,10,15,20,30,50,100], test_scores, color = 'r', label='testing scores')\n",
    "# plt.xlabel('max_depth')\n",
    "# plt.ylabel('Mean Accuracy Score')\n",
    "# plt.title('Random Forest Classifier: Training vs Test')\n",
    "# plt.legend(loc=0, borderaxespad=0.)\n",
    "# plt.savefig('Model2_TrainVsTest.png')"
   ]
  },
  {
   "cell_type": "markdown",
   "metadata": {},
   "source": [
    "Based on the chart, it looks like the training and test scores are pretty similar at a max_depth value of 10. While one might be tempted to choose 30 where the test score plateaus, it would be overfitting and hence not generalizable to new datasets. We will therefore use the max_depth value of 10 and n_estimators of 150 as accuracy score does not seem to be affected significantly by the number of trees."
   ]
  },
  {
   "cell_type": "code",
   "execution_count": 194,
   "metadata": {},
   "outputs": [],
   "source": [
    "# model_2 = RandomForestClassifier(random_state=1234, n_estimators = 150, max_depth=10)\n",
    "# model_2.fit(X_train_stand, y_train)\n",
    "# y_pred = model_2.predict(X_test_stand)\n",
    "\n",
    "# # Obtain the accuracy score, f1 score and confusion matrix: ac, f1, cm\n",
    "# ac = accuracy_score(y_test, y_pred)\n",
    "# f1 = f1_score(y_test, y_pred, average='weighted')\n",
    "# cm = confusion_matrix(y_test, y_pred)\n",
    "\n",
    "# # print results\n",
    "# print('Random Forest: Accuracy=%.3f' % (ac))\n",
    "# print('Random Forest: f1-score=%.3f' % (f1))\n",
    "# print(sklearn.metrics.classification_report(y_test, y_pred))"
   ]
  },
  {
   "cell_type": "code",
   "execution_count": 195,
   "metadata": {},
   "outputs": [],
   "source": [
    "# # print out importance of each feature\n",
    "\n",
    "# feature_importance = model_2.feature_importances_\n",
    "# # make importances relative to max importance\n",
    "# feature_importance = 100.0 * (feature_importance / feature_importance.max())[:30]\n",
    "# sorted_idx = np.argsort(feature_importance)[:30]\n",
    "\n",
    "# pos = np.arange(sorted_idx.shape[0]) + .5\n",
    "# print(pos.size)\n",
    "# sorted_idx.size\n",
    "# plt.figure(figsize=(10,10))\n",
    "# plt.barh(pos, feature_importance[sorted_idx], align='center')\n",
    "# plt.yticks(pos, X.columns[sorted_idx])\n",
    "# plt.xlabel('Relative Importance')\n",
    "# plt.title('Variable Importance with Random Forest')\n",
    "# plt.show()"
   ]
  },
  {
   "cell_type": "markdown",
   "metadata": {},
   "source": [
    "## Model 3: Gradient Boosting Decision Tree"
   ]
  },
  {
   "cell_type": "code",
   "execution_count": 196,
   "metadata": {},
   "outputs": [],
   "source": [
    "# # Grid Search CV for Gradient Boosting Classifier\n",
    "\n",
    "# from sklearn.ensemble import GradientBoostingClassifier\n",
    "\n",
    "# param_grid = {\n",
    "#     'learning_rate':[0.1, 0.25, 0.5, 0.75, 1],\n",
    "#     'n_estimators': [20, 35, 50, 75]\n",
    "# }\n",
    "\n",
    "# gb = GradientBoostingClassifier(random_state=1234)\n",
    "\n",
    "# grid_2 = GridSearchCV(estimator = gb, param_grid = param_grid, cv = 5, n_jobs=-1,verbose=2)\n",
    "# grid_2.fit(X_train_stand, y_train)"
   ]
  },
  {
   "cell_type": "code",
   "execution_count": 197,
   "metadata": {},
   "outputs": [],
   "source": [
    "# # Plot the line plots of cv scores for various max_depths \n",
    "\n",
    "# n_est = [n for n in [20,35,50,75]]\n",
    "# cv_avg_LR01 = grid_2.cv_results_['mean_test_score'][0:4]\n",
    "# cv_avg_LR025 = grid_2.cv_results_['mean_test_score'][4:8]\n",
    "# cv_avg_LR05 = grid_2.cv_results_['mean_test_score'][8:12]\n",
    "# cv_avg_LR075 = grid_2.cv_results_['mean_test_score'][12:16]\n",
    "# cv_avg_LR1 = grid_2.cv_results_['mean_test_score'][16:20]\n",
    "\n",
    "# plt.figure(figsize = (8,5))\n",
    "# plt.plot(n_est, cv_avg_LR01, color = 'b', label= 'learning_rate 0.1')\n",
    "# plt.plot(n_est, cv_avg_LR025, color = 'g', label='learning_rate 0.25')\n",
    "# plt.plot(n_est, cv_avg_LR05, color = 'r', label= 'learning_rate 0.5')\n",
    "# plt.plot(n_est, cv_avg_LR075, color = 'y', label='learning_rate 0.75')\n",
    "# plt.plot(n_est, cv_avg_LR1, color = 'm', label='learning_rate 1')\n",
    "\n",
    "# plt.xlabel('n_estimators')\n",
    "# plt.ylabel('Mean CV Score')\n",
    "# plt.title('Gradient Boost Decision Tree for Different learning_rates')\n",
    "# plt.legend(loc=0, borderaxespad=0.)\n",
    "# plt.savefig('Model3_Mean_CV.png')\n",
    "# plt.show()"
   ]
  },
  {
   "cell_type": "code",
   "execution_count": 198,
   "metadata": {},
   "outputs": [],
   "source": [
    "# print('The best parameters are ',grid_2.best_params_)\n",
    "# print('The respective estimator is ', grid_2.best_estimator_)\n",
    "# print('The best score is ', grid_2.best_score_)"
   ]
  },
  {
   "cell_type": "markdown",
   "metadata": {},
   "source": [
    "The results are good. However, we want to tune the learning rate since a learning rate of 1 can lead to a quick convergence to a suboptimal CV score. Let's plot the train vs test scores for this hyperparameter."
   ]
  },
  {
   "cell_type": "code",
   "execution_count": 199,
   "metadata": {},
   "outputs": [],
   "source": [
    "# # Initialize train_scores and test_scores list where we will append the scores\n",
    "# train_scores = []\n",
    "# test_scores = []\n",
    "\n",
    "# # Build a random forest model for various max_depths \n",
    "# for learn_rate in [0.1, 0.25, 0.5, 0.75, 1]:  \n",
    "#     gb = GradientBoostingClassifier(random_state=1234, learning_rate = learn_rate)\n",
    "#     gb.fit(X_train_stand, y_train)\n",
    "#     train_scores.append(gb.score(X_train_stand, y_train))\n",
    "#     test_scores.append(gb.score(X_test_stand, y_test))"
   ]
  },
  {
   "cell_type": "code",
   "execution_count": 200,
   "metadata": {},
   "outputs": [],
   "source": [
    "# # Display line plots for the training and testing scores for max_depths\n",
    "# plt.figure(figsize = (8,5))\n",
    "# plt.plot([0.1, 0.25, 0.5, 0.75, 1], train_scores, color = 'b', label= 'training score')\n",
    "# plt.plot([0.1, 0.25, 0.5, 0.75, 1], test_scores, color = 'r', label='testing scores')\n",
    "# plt.xlabel('learning_rate')\n",
    "# plt.ylabel('Mean Accuracy Score')\n",
    "# plt.title('Gradient Boosting Classifier: Training vs Test')\n",
    "# plt.legend(loc=0, borderaxespad=0.)\n",
    "# plt.savefig('Model3_TrainVsTest.png')"
   ]
  },
  {
   "cell_type": "markdown",
   "metadata": {},
   "source": [
    "Based off of this plot, it looks as if the test score for a learning rate of 0.25 is still pretty close to the training score and the overplotting isn't too significant. We will use 0.25 as the learning rate value for the final gradient boosting model."
   ]
  },
  {
   "cell_type": "code",
   "execution_count": 201,
   "metadata": {},
   "outputs": [],
   "source": [
    "# # Build model with best parameter values n_estimators=150 and learning_rate=0.25\n",
    "\n",
    "# model_3 = GradientBoostingClassifier(random_state=1234, learning_rate = 0.25, n_estimators=150)\n",
    "# model_3.fit(X_train_stand, y_train)\n",
    "# y_pred = model_3.predict(X_test_stand)\n",
    "\n",
    "# # Obtain the accuracy score, f1 score and confusion matrix: ac, f1, cm\n",
    "# ac = accuracy_score(y_test, y_pred)\n",
    "# f1 = f1_score(y_test, y_pred, average='weighted')\n",
    "# cm = confusion_matrix(y_test, y_pred)\n",
    "\n",
    "# # print results\n",
    "# print('Decision Tree: Accuracy=%.3f' % (ac))\n",
    "# print('Decision Tree: f1-score=%.3f' % (f1))\n",
    "# print(sklearn.metrics.classification_report(y_test, y_pred))"
   ]
  },
  {
   "cell_type": "markdown",
   "metadata": {},
   "source": [
    "It looks like this model gives the best results with an f-1 score of 0.809. We conclude that this is the best model for our prediction."
   ]
  },
  {
   "cell_type": "code",
   "execution_count": 202,
   "metadata": {},
   "outputs": [],
   "source": [
    "## print out importance of each feature\n",
    "\n",
    "# feature_importance = model_3.feature_importances_\n",
    "# # make importances relative to max importance\n",
    "# feature_importance = 100.0 * (feature_importance / feature_importance.max())[:30]\n",
    "# sorted_idx = np.argsort(feature_importance)[:30]\n",
    "\n",
    "# pos = np.arange(sorted_idx.shape[0]) + .5\n",
    "# print(pos.size)\n",
    "# sorted_idx.size\n",
    "# plt.figure(figsize=(10,10))\n",
    "# plt.barh(pos, feature_importance[sorted_idx], align='center')\n",
    "# plt.yticks(pos, X.columns[sorted_idx])\n",
    "# plt.xlabel('Relative Importance')\n",
    "# plt.title('Variable Importance with Gradient Boost')\n",
    "# plt.savefig('FinalModel_VariableImportance.png')\n",
    "# plt.show()"
   ]
  },
  {
   "cell_type": "markdown",
   "metadata": {},
   "source": [
    "## Final Model Metrics"
   ]
  },
  {
   "cell_type": "code",
   "execution_count": 203,
   "metadata": {},
   "outputs": [],
   "source": [
    "# # Save features, predictor variable, model type, hyperparameters and performance metrics\n",
    "# # as a dictionary.\n",
    "# ind_features = list(X.columns)\n",
    "# predictor = y.name\n",
    "# data = {'metric names': ['features_list1',  'features_list2', 'features_list3', 'features_list4', 'features_list5','predictor variable','model', 'hyperparameters', 'performance metrics'],\n",
    "#                 'metric values': [ind_features[0:11], ind_features[11:19], ind_features[19:26], ind_features[26:32], ind_features[32:41],predictor, 'GradientBoostingClassifer', ['learning_rate: 0.25', 'n_estimators: 150'], ['confusion matrix', 'f-1 score', 'gridsearchCV','train vs test']]}"
   ]
  },
  {
   "cell_type": "code",
   "execution_count": 204,
   "metadata": {},
   "outputs": [],
   "source": [
    "# # Obtain a dataframe: model_metrics\n",
    "# model_metrics  = pd.DataFrame(data = data)"
   ]
  },
  {
   "cell_type": "code",
   "execution_count": 180,
   "metadata": {},
   "outputs": [],
   "source": [
    "# Save the dataframe as a csv file.\n",
    "# model_metrics.to_csv('model_metrics.csv')"
   ]
  }
 ],
 "metadata": {
  "kernelspec": {
   "display_name": "Python 3",
   "language": "python",
   "name": "python3"
  },
  "language_info": {
   "codemirror_mode": {
    "name": "ipython",
    "version": 3
   },
   "file_extension": ".py",
   "mimetype": "text/x-python",
   "name": "python",
   "nbconvert_exporter": "python",
   "pygments_lexer": "ipython3",
   "version": "3.7.6"
  }
 },
 "nbformat": 4,
 "nbformat_minor": 4
}
